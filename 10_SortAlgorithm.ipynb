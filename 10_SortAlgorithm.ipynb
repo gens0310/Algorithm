{
  "nbformat": 4,
  "nbformat_minor": 2,
  "metadata": {
    "colab": {
      "name": "SortAlgorithm.ipynb",
      "provenance": [],
      "collapsed_sections": []
    },
    "kernelspec": {
      "name": "python3",
      "display_name": "Python 3.8.8 64-bit ('base': conda)"
    },
    "language_info": {
      "name": "python",
      "version": "3.8.8",
      "mimetype": "text/x-python",
      "codemirror_mode": {
        "name": "ipython",
        "version": 3
      },
      "pygments_lexer": "ipython3",
      "nbconvert_exporter": "python",
      "file_extension": ".py"
    },
    "interpreter": {
      "hash": "64a5c38a3c899d1b5d04dd5abce8e386570e32cf606eb0fe687873946559a065"
    }
  },
  "cells": [
    {
      "cell_type": "markdown",
      "source": [
        "# 정렬 알고리즘"
      ],
      "metadata": {
        "id": "3QLV3FspYaf9"
      }
    },
    {
      "cell_type": "code",
      "execution_count": 1,
      "source": [
        "def findMinIdx(ary):\r\n",
        "    minIdx = 0\r\n",
        "    for i in range(1, len(ary)):\r\n",
        "        if ary[minIdx] > ary[i]:\r\n",
        "            minIdx = i\r\n",
        "    return minIdx\r\n",
        "testAry = [55, 88, 33, 77]\r\n",
        "minPos = findMinIdx(testAry)\r\n",
        "print('최솟값 --> ', testAry[minPos])"
      ],
      "outputs": [
        {
          "output_type": "stream",
          "name": "stdout",
          "text": [
            "최솟값 -->  33\n"
          ]
        }
      ],
      "metadata": {
        "id": "B52zJcikYRsE",
        "colab": {
          "base_uri": "https://localhost:8080/"
        },
        "outputId": "658d6f5e-fabc-4769-a376-9c73c502b8d5"
      }
    },
    {
      "cell_type": "code",
      "execution_count": 2,
      "source": [
        "def findMinIdx(ary):\r\n",
        "    minIdx = 0\r\n",
        "    for i in range(1, len(ary)):\r\n",
        "        if ary[minIdx] > ary[i]:\r\n",
        "            minIdx = i\r\n",
        "    return minIdx\r\n",
        "before = [188, 162, 168, 120, 50, 150, 177, 105]\r\n",
        "after = []\r\n",
        "print('정렬 전 --> ', before)\r\n",
        "for _ in range(len(before)):\r\n",
        "    minPos = findMinIdx(before)\r\n",
        "    after.append(before[minPos])\r\n",
        "    del(before[minPos])\r\n",
        "print('정렬 후 --> ', after)"
      ],
      "outputs": [
        {
          "output_type": "stream",
          "name": "stdout",
          "text": [
            "정렬 전 -->  [188, 162, 168, 120, 50, 150, 177, 105]\n",
            "정렬 후 -->  [50, 105, 120, 150, 162, 168, 177, 188]\n"
          ]
        }
      ],
      "metadata": {
        "colab": {
          "base_uri": "https://localhost:8080/"
        },
        "id": "irdZAi20Umw2",
        "outputId": "f55c2a90-93e8-4828-8a41-81c69eb4ab85"
      }
    },
    {
      "cell_type": "code",
      "execution_count": 3,
      "source": [
        "def selectionSort(ary):\r\n",
        "    n = len(ary)\r\n",
        "    for i in range(0, n - 1):\r\n",
        "        minIdx = i\r\n",
        "        for k in range(i + 1, n):\r\n",
        "            if ary[minIdx] > ary[k]:\r\n",
        "                minIdx = k\r\n",
        "        tmp = ary[i]\r\n",
        "        ary[i] = ary[minIdx]\r\n",
        "        ary[minIdx] = tmp\r\n",
        "    return ary\r\n",
        "dataAry = [188, 162, 168, 120, 50, 150, 177, 105]\r\n",
        "print('정렬 전 --> ', dataAry)\r\n",
        "dataAry = selectionSort(dataAry)\r\n",
        "print('정렬 후 --> ', dataAry)"
      ],
      "outputs": [
        {
          "output_type": "stream",
          "name": "stdout",
          "text": [
            "정렬 전 -->  [188, 162, 168, 120, 50, 150, 177, 105]\n",
            "정렬 후 -->  [50, 105, 120, 150, 162, 168, 177, 188]\n"
          ]
        }
      ],
      "metadata": {
        "colab": {
          "base_uri": "https://localhost:8080/"
        },
        "id": "YymOLBRvU19z",
        "outputId": "3279ccb7-33b8-416b-9a06-3afc44b70b0c"
      }
    },
    {
      "cell_type": "code",
      "execution_count": 4,
      "source": [
        "def findInsertIdx(ary, data):\r\n",
        "    findIdx = -1\r\n",
        "    for i in range(0, len(ary)):\r\n",
        "        if ary[i] > data:\r\n",
        "            findIdx = i\r\n",
        "            break\r\n",
        "    if findIdx == -1:\r\n",
        "        return len(ary)\r\n",
        "    else:\r\n",
        "        return findIdx\r\n",
        "testAry = []\r\n",
        "insPos = findInsertIdx(testAry, 55)\r\n",
        "print('삽입할 위치 --> ' , insPos)\r\n",
        "testAry = [33, 77, 88]\r\n",
        "insPos = findInsertIdx(testAry, 55)\r\n",
        "print('삽입할 위치 --> ' , insPos)\r\n",
        "testAry = [33, 55, 77, 88]\r\n",
        "insPos = findInsertIdx(testAry, 100)\r\n",
        "print('삽입할 위치 --> ' , insPos)"
      ],
      "outputs": [
        {
          "output_type": "stream",
          "name": "stdout",
          "text": [
            "삽입할 위치 -->  0\n",
            "삽입할 위치 -->  1\n",
            "삽입할 위치 -->  4\n"
          ]
        }
      ],
      "metadata": {
        "colab": {
          "base_uri": "https://localhost:8080/"
        },
        "id": "1FYDYGQ6VHO7",
        "outputId": "cd73a325-db0c-4bc3-b53f-15462e02e04f"
      }
    },
    {
      "cell_type": "code",
      "execution_count": 5,
      "source": [
        "def findInsertIdx(ary, data):\r\n",
        "    findIdx = -1\r\n",
        "    for i in range(0, len(ary)):\r\n",
        "        if ary[i] > data:\r\n",
        "            findIdx = i\r\n",
        "            break\r\n",
        "    if findIdx == -1:\r\n",
        "        return len(ary)\r\n",
        "    else:\r\n",
        "        return findIdx\r\n",
        "before = [188, 162, 168, 120, 50, 150, 177, 105]\r\n",
        "after = []\r\n",
        "print('정렬 전 --> ', before)\r\n",
        "for i in range(len(before)):\r\n",
        "    data = before[i]\r\n",
        "    insPos = findInsertIdx(after, data)\r\n",
        "    after.insert(insPos, data)\r\n",
        "print('정렬 후 --> ', after)"
      ],
      "outputs": [
        {
          "output_type": "stream",
          "name": "stdout",
          "text": [
            "정렬 전 -->  [188, 162, 168, 120, 50, 150, 177, 105]\n",
            "정렬 후 -->  [50, 105, 120, 150, 162, 168, 177, 188]\n"
          ]
        }
      ],
      "metadata": {
        "colab": {
          "base_uri": "https://localhost:8080/"
        },
        "id": "Sf1V2A77VbYz",
        "outputId": "297256e5-c782-45a8-cb13-be60785eecad"
      }
    },
    {
      "cell_type": "code",
      "execution_count": 6,
      "source": [
        "def insertionSort(ary):\r\n",
        "    n = len(ary)\r\n",
        "    for end in range(1, n):\r\n",
        "        for cur in range(end, 0, -1):\r\n",
        "            if ary[cur - 1] > ary[cur]:\r\n",
        "                ary[cur - 1], ary[cur] = ary[cur], ary[cur - 1]\r\n",
        "    return ary\r\n",
        "dataAry = [188, 162, 168, 120, 50, 150, 177, 105]\r\n",
        "print('정렬 전 --> ', dataAry)\r\n",
        "dataAry = insertionSort(dataAry)\r\n",
        "print('정렬 후 --> ', dataAry)"
      ],
      "outputs": [
        {
          "output_type": "stream",
          "name": "stdout",
          "text": [
            "정렬 전 -->  [188, 162, 168, 120, 50, 150, 177, 105]\n",
            "정렬 후 -->  [50, 105, 120, 150, 162, 168, 177, 188]\n"
          ]
        }
      ],
      "metadata": {
        "colab": {
          "base_uri": "https://localhost:8080/"
        },
        "id": "zV7FJjw5VuUP",
        "outputId": "0b53e7df-e236-4ce7-a609-12a5034f0622"
      }
    },
    {
      "cell_type": "code",
      "execution_count": 7,
      "source": [
        "def selectionSort(ary):\r\n",
        "    n = len(ary)\r\n",
        "    for i in range(0, n - 1):\r\n",
        "        minIdx = i\r\n",
        "        for k in range(i + 1, n):\r\n",
        "            if ary[minIdx] > ary[k]:\r\n",
        "                minIdx = k\r\n",
        "        tmp = ary[i]\r\n",
        "        ary[i] = ary[minIdx]\r\n",
        "        ary[minIdx] = tmp\r\n",
        "    return ary\r\n",
        "moneyAry = [7, 5, 11, 6, 9, 80000, 10, 6, 15, 12]\r\n",
        "print('용돈 정렬 전 --> ', moneyAry)\r\n",
        "moneyAry = selectionSort(moneyAry)\r\n",
        "print('용돈 정렬 후 --> ', moneyAry)\r\n",
        "print('용돈 중앙값 --> ', moneyAry[len(moneyAry) // 2])"
      ],
      "outputs": [
        {
          "output_type": "stream",
          "name": "stdout",
          "text": [
            "용돈 정렬 전 -->  [7, 5, 11, 6, 9, 80000, 10, 6, 15, 12]\n",
            "용돈 정렬 후 -->  [5, 6, 6, 7, 9, 10, 11, 12, 15, 80000]\n",
            "용돈 중앙값 -->  10\n"
          ]
        }
      ],
      "metadata": {
        "colab": {
          "base_uri": "https://localhost:8080/"
        },
        "id": "jU2T8us_V_Ak",
        "outputId": "42b5e520-78c6-473a-8ff7-62860b546100"
      }
    },
    {
      "cell_type": "code",
      "execution_count": 8,
      "source": [
        "import os\r\n",
        "def makeFileList(folderName):\r\n",
        "    fnameAry = []\r\n",
        "    for dirName, subDirList, fnames in os.walk(folderName):\r\n",
        "        for fname in fnames:\r\n",
        "            fnameAry.append(fname)\r\n",
        "    return fnameAry\r\n",
        "def insertionSort(ary):\r\n",
        "    n = len(ary)\r\n",
        "    for end in range(1, n) :\r\n",
        "        for cur in range(end, 0, -1):\r\n",
        "            if ary[cur - 1] < ary[cur]:\r\n",
        "                ary[cur - 1], ary[cur] = ary[cur], ary[cur - 1]\r\n",
        "    return ary\r\n",
        "fileAry = []\r\n",
        "fileAry = makeFileList('C:/Program Files/Common Files')\r\n",
        "fileAry = insertionSort(fileAry)\r\n",
        "print('파일명 역순 정렬 --> ', fileAry)"
      ],
      "outputs": [
        {
          "output_type": "stream",
          "name": "stdout",
          "text": [
            "파일명 역순 정렬 -->  ['zh-phonetic.xml', 'zh-dayi.xml', 'zh-changjei.xml', 'wab32res.dll.mui', 'wab32res.dll', 'wab32.dll', 'verisign.bmp', 'tyavexcept.dat', 'tyavcuremap.dat', 'tyav32.dll', 'tpcps.dll', 'tiptsf.dll', 'tipskins.dll', 'tipresx.dll.mui', 'tipresx.dll.mui', 'tipresx.dll.mui', 'tipresx.dll.mui', 'tipresx.dll.mui', 'tipresx.dll.mui', 'tipresx.dll.mui', 'tipresx.dll.mui', 'tipresx.dll.mui', 'tipresx.dll.mui', 'tipresx.dll.mui', 'tipresx.dll.mui', 'tipresx.dll.mui', 'tipresx.dll.mui', 'tipresx.dll.mui', 'tipresx.dll.mui', 'tipresx.dll.mui', 'tipresx.dll.mui', 'tipresx.dll.mui', 'tipresx.dll.mui', 'tipresx.dll.mui', 'tipresx.dll.mui', 'tipresx.dll.mui', 'tipresx.dll.mui', 'tipresx.dll.mui', 'tipresx.dll.mui', 'tipresx.dll.mui', 'tipresx.dll.mui', 'tipresx.dll.mui', 'tipresx.dll.mui', 'tipresx.dll.mui', 'tipresx.dll.mui', 'tipresx.dll.mui', 'tipresx.dll.mui', 'tipresx.dll.mui', 'tipresx.dll.mui', 'tipresx.dll.mui', 'tipresx.dll.mui', 'tipresx.dll', 'teexcept.dat', 'tabskb.dll.mui', 'tabskb.dll', 'symbols.xml', 'symbase.xml', 'sqlxmlx.rll.mui', 'sqlxmlx.rll', 'sqlxmlx.dll', 'sqloledb.rll.mui', 'sqloledb.rll', 'sqloledb.dll', 'rtscom.dll.mui', 'rtscom.dll', 'oskpredbase.xml', 'oskpred.xml', 'osknumpadbase.xml', 'osknumpad.xml', 'osknavbase.xml', 'osknav.xml', 'oskmenubase.xml', 'oskmenu.xml', 'oskclearuibase.xml', 'oskclearui.xml', 'oledbvbs.inc', 'oledbjvs.inc', 'oledb32r.dll.mui', 'oledb32r.dll', 'oledb32.dll', 'msxactps.dll', 'msinfo32.exe.mui', 'msinfo32.exe', 'mshwkorr.dll', 'mshwkor.dll', 'mshwgst.dll', 'mshwLatin.dll.mui', 'mshwLatin.dll', 'msdfmap.dll', 'msdatl3.dll', 'msdasqlr.dll.mui', 'msdasqlr.dll', 'msdasql.dll', 'msdaremr.dll.mui', 'msdaremr.dll', 'msdarem.dll', 'msdaps.dll', 'msdaprst.dll', 'msdaprsr.dll.mui', 'msdaprsr.dll', 'msdaosp.dll', 'msadrh15.dll', 'msadox28.tlb', 'msadox.dll', 'msador28.tlb', 'msador15.dll', 'msadomd28.tlb', 'msadomd.dll', 'msado60.tlb', 'msado28.tlb', 'msado27.tlb', 'msado26.tlb', 'msado25.tlb', 'msado21.tlb', 'msado20.tlb', 'msado15.dll', 'msader15.dll.mui', 'msader15.dll', 'msaddsr.dll.mui', 'msaddsr.dll', 'msadds.dll', 'msadcor.dll.mui', 'msadcor.dll', 'msadco.dll', 'msadcer.dll.mui', 'msadcer.dll', 'msadce.dll', 'mraut.dll', 'mip.exe.mui', 'mip.exe', 'micaut.dll.mui', 'micaut.dll', 'main.xml', 'kor-kor.xml', 'ko-kr.xml', 'keypadbase.xml', 'keypad.xml', 'jshell.exe', 'jshell.exe', 'javaw.exe', 'javaw.exe', 'javac.exe', 'javac.exe', 'java.exe', 'java.exe', 'ja-jp.xml', 'ja-jp-sym.xml', 'ipstr.xml', 'ipssve.xml', 'ipssrl.xml', 'ipssrb.xml', 'ipsrus.xml', 'ipsrom.xml', 'ipsptg.xml', 'ipsptb.xml', 'ipsplk.xml', 'ipsnor.xml', 'ipsnld.xml', 'ipskor.xml', 'ipsjpn.xml', 'ipsita.xml', 'ipsid.xml', 'ipshrv.xml', 'ipshi.xml', 'ipshe.xml', 'ipsfra.xml', 'ipsfin.xml', 'ipsesp.xml', 'ipsen.xml', 'ipsel.xml', 'ipsdeu.xml', 'ipsdan.xml', 'ipscsy.xml', 'ipscht.xml', 'ipschs.xml', 'ipscat.xml', 'ipsar.xml', 'insertbase.xml', 'insert.xml', 'hwrlatinlm.dat', 'hwrcommonlm.dat', 'ea.xml', 'ea-sym.xml', 'base_rtl.xml', 'base_kor.xml', 'base_jpn.xml', 'base_heb.xml', 'base_ca.xml', 'base_altgr.xml', 'baseAltGr_rtl.xml', 'base.xml', 'auxpad.xml', 'auxbase.xml', 'adovbs.inc', 'adojavas.inc', 'adcvbs.inc', 'adcjavas.inc', 'VGX.dll', 'TipTsf.dll.mui', 'TipRes.dll.mui', 'TipRes.dll', 'ThirdPartyNotices.ko-kr.txt', 'ThirdPartyNotices.MSHWLatin.txt', 'TeCtrl.dll', 'TabTip.exe.mui', 'TabTip.exe', 'TabIpsps.dll', 'TYAVS_000.bin', 'TYAVP_EXP.bin', 'TYAVP_000.bin', 'ShapeCollector.exe.mui', 'ShapeCollector.exe', 'NpExcH.dat', 'Microsoft.Ink.dll', 'IpsPlugin.dll', 'IpsMigrationPlugin.dll', 'InputPersonalization.exe.mui', 'InputPersonalization.exe', 'InkObj.dll.mui', 'InkObj.dll', 'InkDiv.dll', 'Content.xml', 'BwtTrust.dll', 'BWT.dll', 'Alphabet.xml']\n"
          ]
        }
      ],
      "metadata": {
        "colab": {
          "base_uri": "https://localhost:8080/"
        },
        "id": "_lrQJJjNWehl",
        "outputId": "dc2fb873-f34b-4274-9fbf-d0488d72c187"
      }
    },
    {
      "cell_type": "code",
      "execution_count": 9,
      "source": [
        "def BubbleSort(ary):\r\n",
        "    n = len(ary)\r\n",
        "    for end in range(n - 1, 0, -1):\r\n",
        "        for cur in range(0, end):\r\n",
        "            if ary[cur] > ary[cur + 1]:\r\n",
        "                ary[cur], ary[cur + 1] = ary[cur + 1], ary[cur]\r\n",
        "    return ary\r\n",
        "dataAry = [188, 162, 168, 120, 50, 150, 177, 105]\r\n",
        "print('정렬 전 --> ', dataAry)\r\n",
        "dataAry = BubbleSort(dataAry)\r\n",
        "print('정렬 후 --> ', dataAry)"
      ],
      "outputs": [
        {
          "output_type": "stream",
          "name": "stdout",
          "text": [
            "정렬 전 -->  [188, 162, 168, 120, 50, 150, 177, 105]\n",
            "정렬 후 -->  [50, 105, 120, 150, 162, 168, 177, 188]\n"
          ]
        }
      ],
      "metadata": {
        "colab": {
          "base_uri": "https://localhost:8080/"
        },
        "id": "4oU0_9MkXsjh",
        "outputId": "0b46be81-b173-434c-b9f4-d3830667c738"
      }
    },
    {
      "cell_type": "code",
      "execution_count": 10,
      "source": [
        "def bubbleSort(ary):\r\n",
        "    n = len(ary)\r\n",
        "    for end in range(n - 1, 0, -1):\r\n",
        "        changeYN = False\r\n",
        "        print('#사이클 --> ', ary)\r\n",
        "        for cur in range(0, end):\r\n",
        "            if ary[cur] > ary[cur + 1]:\r\n",
        "                ary[cur], ary[cur + 1] = ary[cur + 1], ary[cur]\r\n",
        "                changeYN = True\r\n",
        "        if not changeYN:\r\n",
        "            break\r\n",
        "    return ary\r\n",
        "dataAry = [50, 105, 120, 188, 150, 162, 168, 177]\r\n",
        "print('정렬 전 --> ', dataAry)\r\n",
        "dataAry = bubbleSort(dataAry)\r\n",
        "print('정렬 후 --> ', dataAry)"
      ],
      "outputs": [
        {
          "output_type": "stream",
          "name": "stdout",
          "text": [
            "정렬 전 -->  [50, 105, 120, 188, 150, 162, 168, 177]\n",
            "#사이클 -->  [50, 105, 120, 188, 150, 162, 168, 177]\n",
            "#사이클 -->  [50, 105, 120, 150, 162, 168, 177, 188]\n",
            "정렬 후 -->  [50, 105, 120, 150, 162, 168, 177, 188]\n"
          ]
        }
      ],
      "metadata": {
        "colab": {
          "base_uri": "https://localhost:8080/"
        },
        "id": "X88x1FxVX52X",
        "outputId": "11af624b-500a-49cb-a9b5-3548cbb1727d"
      }
    },
    {
      "cell_type": "code",
      "execution_count": 11,
      "source": [
        "def quickSort(ary):\r\n",
        "    n = len(ary)\r\n",
        "    if n <= 1:\r\n",
        "        return ary\r\n",
        "    pivot = ary[n // 2]\r\n",
        "    leftAry, rightAry = [], []\r\n",
        "    for num in ary:\r\n",
        "        if num < pivot:\r\n",
        "            leftAry.append(num)\r\n",
        "        elif num > pivot:\r\n",
        "            rightAry.append(num)\r\n",
        "    return quickSort(leftAry) + [pivot] + quickSort(rightAry)\r\n",
        "    dataAry = [188, 150, 168,  162, 105, 120,  177,  50]\r\n",
        "print('정렬 전 --> ', dataAry)\r\n",
        "dataAry = quickSort(dataAry)\r\n",
        "print('정렬 후 --> ', dataAry)"
      ],
      "outputs": [
        {
          "output_type": "stream",
          "name": "stdout",
          "text": [
            "정렬 전 -->  [50, 105, 120, 150, 162, 168, 177, 188]\n",
            "정렬 후 -->  [50, 105, 120, 150, 162, 168, 177, 188]\n"
          ]
        }
      ],
      "metadata": {
        "colab": {
          "base_uri": "https://localhost:8080/"
        },
        "id": "Hb4Fr6-aYRKc",
        "outputId": "d1eb95f5-afe8-41a9-db58-1da6291ebef9"
      }
    },
    {
      "cell_type": "code",
      "execution_count": 12,
      "source": [
        "def quickSort(ary):\r\n",
        "    n = len(ary)\r\n",
        "    if n <= 1:\r\n",
        "        return ary\r\n",
        "    pivot = ary[n // 2]\r\n",
        "    leftAry, midAry, rightAry = [], [], []\r\n",
        "    for num in ary:\r\n",
        "        if num < pivot:\r\n",
        "            leftAry.append(num)\r\n",
        "        elif num > pivot:\r\n",
        "            rightAry.append(num)\r\n",
        "        else:\r\n",
        "            midAry.append(num)\r\n",
        "    return quickSort(leftAry) + midAry + quickSort(rightAry)\r\n",
        "dataAry = [120, 120, 188, 150, 168, 50, 50, 162, 105, 120,  177,  50]\r\n",
        "print('정렬 전 --> ', dataAry)\r\n",
        "dataAry = quickSort(dataAry)\r\n",
        "print('정렬 후 --> ', dataAry)"
      ],
      "outputs": [
        {
          "output_type": "stream",
          "name": "stdout",
          "text": [
            "정렬 전 -->  [120, 120, 188, 150, 168, 50, 50, 162, 105, 120, 177, 50]\n",
            "정렬 후 -->  [50, 50, 50, 105, 120, 120, 120, 150, 162, 168, 177, 188]\n"
          ]
        }
      ],
      "metadata": {
        "colab": {
          "base_uri": "https://localhost:8080/"
        },
        "id": "dsJKk2SoYkIr",
        "outputId": "510456c9-f12a-450f-d50b-48418900aebd"
      }
    },
    {
      "cell_type": "code",
      "execution_count": 13,
      "source": [
        "def qSort(arr, start, end):\r\n",
        "    if end <= start:\r\n",
        "        return\r\n",
        "    low = start\r\n",
        "    high = end\r\n",
        "    pivot = arr[(low + high) // 2]\r\n",
        "    while low <= high:\r\n",
        "        while arr[low] < pivot:\r\n",
        "            low += 1\r\n",
        "        while arr[high] > pivot:\r\n",
        "            high -= 1\r\n",
        "        if low <= high:\r\n",
        "            arr[low], arr[high] = arr[high], arr[low]\r\n",
        "            low, high = low + 1, high - 1\r\n",
        "    mid = low\r\n",
        "    qSort(arr, start, mid - 1)\r\n",
        "    qSort(arr, mid, end)\r\n",
        "def quickSort(ary):\r\n",
        "    qSort(ary, 0, len(ary)-1)\r\n",
        "dataAry = [188, 150, 168, 162, 105, 120, 177, 50]\r\n",
        "print('정렬 전 --> ', dataAry)\r\n",
        "quickSort(dataAry)\r\n",
        "print('정렬 후 --> ', dataAry)"
      ],
      "outputs": [
        {
          "output_type": "stream",
          "name": "stdout",
          "text": [
            "정렬 전 -->  [188, 150, 168, 162, 105, 120, 177, 50]\n",
            "정렬 후 -->  [50, 105, 120, 150, 162, 168, 177, 188]\n"
          ]
        }
      ],
      "metadata": {
        "colab": {
          "base_uri": "https://localhost:8080/"
        },
        "id": "0UzVMUcYY1fM",
        "outputId": "8f035b1c-8cb0-4761-dc9f-f7e7b9d7b00a"
      }
    },
    {
      "cell_type": "code",
      "execution_count": 14,
      "source": [
        "from tkinter import *\r\n",
        "window = Tk()\r\n",
        "window.geometry('600x600')\r\n",
        "photo = PhotoImage(file = 'pet01.gif')\r\n",
        "paper = Label(window, image = photo)\r\n",
        "paper.pack(expand = 1, anchor = CENTER)\r\n",
        "window.mainloop()"
      ],
      "outputs": [],
      "metadata": {
        "colab": {
          "base_uri": "https://localhost:8080/",
          "height": 370
        },
        "id": "SNk5ISvGZPSz",
        "outputId": "cb5b2e25-2445-4574-def9-9957e16e4778"
      }
    },
    {
      "cell_type": "code",
      "execution_count": 15,
      "source": [
        "from tkinter import *\r\n",
        "window = Tk()\r\n",
        "window.geometry('600x600')\r\n",
        "photo = PhotoImage(file = 'pet01.gif')\r\n",
        "photoAry = []\r\n",
        "h = photo.height()\r\n",
        "w = photo.width()\r\n",
        "for i in range(h):\r\n",
        "    for k in range(w):\r\n",
        "        r, g, b = photo.get(i, k)\r\n",
        "        value = (r + g + b) // 3\r\n",
        "        photoAry.append(value)\r\n",
        "paper = Label(window, image = photo)\r\n",
        "paper.pack(expand = 1, anchor = CENTER)\r\n",
        "window.mainloop()"
      ],
      "outputs": [],
      "metadata": {
        "colab": {
          "base_uri": "https://localhost:8080/",
          "height": 370
        },
        "id": "o1sMnLI9ZX-7",
        "outputId": "cd31a0dc-ac10-4f6c-f01a-175c01baa5fd"
      }
    },
    {
      "cell_type": "code",
      "execution_count": 16,
      "source": [
        "from tkinter import *\r\n",
        "window = Tk()\r\n",
        "window.geometry('600x600')\r\n",
        "photo = PhotoImage(file = 'pet01.gif')\r\n",
        "photoAry = []\r\n",
        "h = photo.height()\r\n",
        "w = photo.width()\r\n",
        "for i in range(h):\r\n",
        "    for k in range(w):\r\n",
        "        r, g, b = photo.get(i, k)\r\n",
        "        value = (r + g + b) // 3\r\n",
        "        photoAry.append(value)\r\n",
        "for i in range(len(photoAry)):\r\n",
        "    if photoAry[i] <= 127:\r\n",
        "        photoAry[i] = 0\r\n",
        "    else:\r\n",
        "        photoAry[i] = 255\r\n",
        "pos = 0\r\n",
        "for i in range(h):\r\n",
        "    for k in range(w):\r\n",
        "        r = g = b = photoAry[pos]\r\n",
        "        pos += 1\r\n",
        "        photo.put('#%02x%02x%02x' % (r, g, b), (i, k))\r\n",
        "paper = Label(window, image = photo)\r\n",
        "paper.pack(expand = 1, anchor = CENTER)\r\n",
        "window.mainloop()"
      ],
      "outputs": [],
      "metadata": {
        "colab": {
          "base_uri": "https://localhost:8080/",
          "height": 370
        },
        "id": "8WJ15HXAZoGD",
        "outputId": "c40c8534-d3d2-4031-8ac5-e301ab0fbaf3"
      }
    },
    {
      "cell_type": "code",
      "execution_count": 17,
      "source": [
        "from tkinter import *\r\n",
        "def qSort(arr, start, end):\r\n",
        "    if end <= start:\r\n",
        "        return\r\n",
        "    low = start\r\n",
        "    high = end\r\n",
        "    pivot = arr[(low + high) // 2]\r\n",
        "    while low <= high:\r\n",
        "        while arr[low] < pivot:\r\n",
        "            low += 1\r\n",
        "        while arr[high] > pivot:\r\n",
        "            high -= 1\r\n",
        "        if low <= high:\r\n",
        "            arr[low], arr[high] = arr[high], arr[low]\r\n",
        "            low, high = low + 1, high - 1\r\n",
        "    mid = low\r\n",
        "    qSort(arr, start, mid - 1)\r\n",
        "    qSort(arr, mid, end)\r\n",
        "def quickSort(ary):\r\n",
        "    qSort(ary, 0, len(ary) - 1)\r\n",
        "window = Tk()\r\n",
        "window.geometry('600x600')\r\n",
        "photo = PhotoImage(file = 'pet02.gif')\r\n",
        "photoAry = []\r\n",
        "h = photo.height()\r\n",
        "w = photo.width()\r\n",
        "for i in range(h):\r\n",
        "    for k in range(w):\r\n",
        "        r, g, b = photo.get(i, k)\r\n",
        "        value = (r + g + b) // 3\r\n",
        "        photoAry.append(value)\r\n",
        "dataAry = photoAry[:]\r\n",
        "quickSort(dataAry)\r\n",
        "midValue = dataAry[h * w // 2]\r\n",
        "for i in range(len(photoAry)):\r\n",
        "    if photoAry[i] <= midValue:\r\n",
        "        photoAry[i] = 0\r\n",
        "    else:\r\n",
        "        photoAry[i] = 255\r\n",
        "pos = 0\r\n",
        "for i in range(h):\r\n",
        "    for k in range(w):\r\n",
        "        r = g = b = photoAry[pos]\r\n",
        "        pos += 1\r\n",
        "        photo.put('#%02x%02x%02x' % (r, g, b), (i, k))\r\n",
        "paper = Label(window, image = photo)\r\n",
        "paper.pack(expand = 1, anchor = CENTER)\r\n",
        "window.mainloop()"
      ],
      "outputs": [],
      "metadata": {
        "colab": {
          "base_uri": "https://localhost:8080/",
          "height": 136
        },
        "id": "5p1-v-PjaAzb",
        "outputId": "d0dafb7b-f94e-4f7c-9262-36766dba59a8"
      }
    }
  ]
}