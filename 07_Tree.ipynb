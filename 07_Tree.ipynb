{
  "nbformat": 4,
  "nbformat_minor": 0,
  "metadata": {
    "colab": {
      "name": "Tree.ipynb",
      "provenance": [],
      "collapsed_sections": []
    },
    "kernelspec": {
      "name": "python3",
      "display_name": "Python 3"
    },
    "language_info": {
      "name": "python"
    }
  },
  "cells": [
    {
      "cell_type": "code",
      "metadata": {
        "id": "Fq9S2kbePbVP",
        "colab": {
          "base_uri": "https://localhost:8080/"
        },
        "outputId": "f805a957-282a-4ecf-8230-b502e129a707"
      },
      "source": [
        "class TreeNode():\n",
        "    def __init__ (self):\n",
        "        self.left = None\n",
        "        self.data = None\n",
        "        self.right = None\n",
        "node1 = TreeNode()\n",
        "node1.data = '화사'\n",
        "node2 = TreeNode()\n",
        "node2.data = '솔라'\n",
        "node1.left = node2\n",
        "node3 = TreeNode()\n",
        "node3.data = '문별'\n",
        "node1.right = node3\n",
        "node4 = TreeNode()\n",
        "node4.data = '휘인'\n",
        "node2.left = node4\n",
        "node5 = TreeNode()\n",
        "node5.data = '쯔위'\n",
        "node2.right = node5\n",
        "node6 = TreeNode()\n",
        "node6.data = '선미'\n",
        "node3.left = node6\n",
        "print(node1.data, end = ' ')\n",
        "print()\n",
        "print(node1.left.data,  node1.right.data, end = ' ')\n",
        "print()\n",
        "print(node1.left.left.data, node1.left.right.data, node1.right.left.data, end = ' ')"
      ],
      "execution_count": 1,
      "outputs": [
        {
          "output_type": "stream",
          "text": [
            "화사 \n",
            "솔라 문별 \n",
            "휘인 쯔위 선미 "
          ],
          "name": "stdout"
        }
      ]
    },
    {
      "cell_type": "code",
      "metadata": {
        "colab": {
          "base_uri": "https://localhost:8080/"
        },
        "id": "qSuOR0d2H2vI",
        "outputId": "4126666f-ecf4-4b9a-a25e-5bbc099ec2f0"
      },
      "source": [
        "class TreeNode():\n",
        "    def __init__ (self):\n",
        "        self.left = None\n",
        "        self.data = None\n",
        "        self.right = None\n",
        "node1 = TreeNode()\n",
        "node1.data = '화사'\n",
        "node2 = TreeNode()\n",
        "node2.data = '솔라'\n",
        "node1.left = node2\n",
        "node3 = TreeNode()\n",
        "node3.data = '문별'\n",
        "node1.right = node3\n",
        "node4 = TreeNode()\n",
        "node4.data = '휘인'\n",
        "node2.left = node4\n",
        "node5 = TreeNode()\n",
        "node5.data = '쯔위'\n",
        "node2.right = node5\n",
        "node6 = TreeNode()\n",
        "node6.data = '선미'\n",
        "node3.left = node6\n",
        "def preorder(node):\n",
        "    if node == None:\n",
        "        return\n",
        "    print(node.data, end = '->')\n",
        "    preorder(node.left)\n",
        "    preorder(node.right)\n",
        "def inorder(node):\n",
        "    if node == None:\n",
        "        return\n",
        "    inorder(node.left)\n",
        "    print(node.data, end = '->')\n",
        "    inorder(node.right)\n",
        "def postorder(node):\n",
        "    if node == None:\n",
        "        return\n",
        "    postorder(node.left)\n",
        "    postorder(node.right)\n",
        "    print(node.data, end = '->')\n",
        "print('전위 순회 : ', end = '')\n",
        "preorder(node1)\n",
        "print('끝')\n",
        "print('중위 순회 : ', end = '')\n",
        "inorder(node1)\n",
        "print('끝')\n",
        "print('후위 순회 : ', end = '')\n",
        "postorder(node1)\n",
        "print('끝')"
      ],
      "execution_count": 2,
      "outputs": [
        {
          "output_type": "stream",
          "text": [
            "전위 순회 : 화사->솔라->휘인->쯔위->문별->선미->끝\n",
            "중위 순회 : 휘인->솔라->쯔위->화사->선미->문별->끝\n",
            "후위 순회 : 휘인->쯔위->솔라->선미->문별->화사->끝\n"
          ],
          "name": "stdout"
        }
      ]
    },
    {
      "cell_type": "code",
      "metadata": {
        "colab": {
          "base_uri": "https://localhost:8080/"
        },
        "id": "iYNugdT6IoUo",
        "outputId": "1ece6c3d-060f-442e-aa94-499b5ef85e25"
      },
      "source": [
        "class TreeNode():\n",
        "    def __init__ (self):\n",
        "        self.left = None\n",
        "        self.data = None\n",
        "        self.right = None\n",
        "memory = []\n",
        "root = None\n",
        "nameAry = ['블랙핑크', '레드벨벳', '마마무', '에이핑크', '걸스데이', '트와이스']\n",
        "node = TreeNode()\n",
        "node.data = nameAry[0]\n",
        "root = node\n",
        "memory.append(node)\n",
        "for name in nameAry[1:]:\n",
        "    node = TreeNode()\n",
        "    node.data = name\n",
        "    current = root\n",
        "    while True:\n",
        "        if name < current.data:\n",
        "            if current.left == None:\n",
        "                current.left = node\n",
        "                break\n",
        "            current = current.left\n",
        "        else:\n",
        "            if current.right == None:\n",
        "                current.right = node\n",
        "                break\n",
        "            current = current.right\n",
        "    memory.append(node)\n",
        "print('이진 탐색 트리 구성 완료!')"
      ],
      "execution_count": 3,
      "outputs": [
        {
          "output_type": "stream",
          "text": [
            "이진 탐색 트리 구성 완료!\n"
          ],
          "name": "stdout"
        }
      ]
    },
    {
      "cell_type": "code",
      "metadata": {
        "colab": {
          "base_uri": "https://localhost:8080/"
        },
        "id": "5s7wptQCJGnP",
        "outputId": "583afd6e-b58e-4ade-d0e4-3fe03e39f360"
      },
      "source": [
        "class TreeNode():\n",
        "    def __init__ (self):\n",
        "        self.left = None\n",
        "        self.data = None\n",
        "        self.right = None\n",
        "memory = []\n",
        "root = None\n",
        "nameAry = ['블랙핑크', '레드벨벳', '마마무', '에이핑크', '걸스데이', '트와이스']\n",
        "node = TreeNode()\n",
        "node.data = nameAry[0]\n",
        "root = node\n",
        "memory.append(node)\n",
        "for name in nameAry[1:]:\n",
        "    node = TreeNode()\n",
        "    node.data = name\n",
        "    current = root\n",
        "    while True:\n",
        "        if name < current.data:\n",
        "            if current.left == None:\n",
        "                current.left = node\n",
        "                break\n",
        "            current = current.left\n",
        "        else:\n",
        "            if current.right == None:\n",
        "                current.right = node\n",
        "                break\n",
        "            current = current.right\n",
        "    memory.append(node)\n",
        "findName = '마마무'\n",
        "current = root\n",
        "while True:\n",
        "    if findName == current.data:\n",
        "        print(findName, '을(를) 찾음.')\n",
        "        break\n",
        "    elif findName < current.data:\n",
        "        if current.left == None:\n",
        "            print(findName, '이(가) 트리에 없음')\n",
        "            break\n",
        "        current = current.left\n",
        "    else:\n",
        "        if current.right == None:\n",
        "            print(findName, '이(가) 트리에 없음')\n",
        "            break\n",
        "        current = current.right"
      ],
      "execution_count": 4,
      "outputs": [
        {
          "output_type": "stream",
          "text": [
            "마마무 을(를) 찾음.\n"
          ],
          "name": "stdout"
        }
      ]
    },
    {
      "cell_type": "code",
      "metadata": {
        "colab": {
          "base_uri": "https://localhost:8080/"
        },
        "id": "WrdSgdQJJtc_",
        "outputId": "ecf3753c-5edc-4cd5-ff48-eff56a0450eb"
      },
      "source": [
        "class TreeNode():\n",
        "    def __init__ (self):\n",
        "        self.left = None\n",
        "        self.data = None\n",
        "        self.right = None\n",
        "memory = []\n",
        "root = None\n",
        "nameAry = ['블랙핑크', '레드벨벳', '마마무', '에이핑크', '걸스데이', '트와이스']\n",
        "node = TreeNode()\n",
        "node.data = nameAry[0]\n",
        "root = node\n",
        "memory.append(node)\n",
        "for name in nameAry[1:]:\n",
        "    node = TreeNode()\n",
        "    node.data = name\n",
        "    current = root\n",
        "    while True:\n",
        "        if name < current.data:\n",
        "            if current.left == None:\n",
        "                current.left = node\n",
        "                break\n",
        "            current = current.left\n",
        "        else:\n",
        "            if current.right == None:\n",
        "                current.right = node\n",
        "                break\n",
        "            current = current.right\n",
        "    memory.append(node)\n",
        "deleteName = '마마무' \n",
        "current = root\n",
        "parent = None\n",
        "while True:\n",
        "    if deleteName == current.data:\n",
        "        if current.left == None and current.right == None:\n",
        "            if parent.left == current:\n",
        "                parent.left = None\n",
        "            else:\n",
        "                parent.right = None\n",
        "            del(current)\n",
        "        elif current.left != None and current.right == None:\n",
        "            if parent.left == current:\n",
        "                parent.left = current.left\n",
        "            else:\n",
        "                parent.right = current.left\n",
        "            del(current)\n",
        "        elif current.left == None and current.right != None:\n",
        "            if parent.left == current:\n",
        "                parent.left = current.right\n",
        "            else:\n",
        "                parent.right = current.right\n",
        "            del(current)\n",
        "        print(deleteName, '이(가) 삭제됨.')\n",
        "        break\n",
        "    elif deleteName < current.data:\n",
        "        if current.left == None:\n",
        "            print(deleteName, '이(가) 트리에 없음')\n",
        "            break\n",
        "        parent = current\n",
        "        current = current.left\n",
        "    else:\n",
        "        if current.right == None:\n",
        "            print(deleteName, '이(가) 트리에 없음')\n",
        "            break\n",
        "        parent = current\n",
        "        current = current.right"
      ],
      "execution_count": 5,
      "outputs": [
        {
          "output_type": "stream",
          "text": [
            "마마무 이(가) 삭제됨.\n"
          ],
          "name": "stdout"
        }
      ]
    },
    {
      "cell_type": "code",
      "metadata": {
        "colab": {
          "base_uri": "https://localhost:8080/"
        },
        "id": "1kxdtloYKqq-",
        "outputId": "1147efce-ba1a-4bf7-9e80-90b7f404632e"
      },
      "source": [
        "import random\n",
        "class TreeNode():\n",
        "    def __init__ (self):\n",
        "        self.left = None\n",
        "        self.data = None\n",
        "        self.right = None\n",
        "memory = []\n",
        "rootBook, rootAuth = None, None\n",
        "bookAry = [\n",
        "           ['어린왕자', '쌩떽쥐베리'],\n",
        "           ['이방인', '까뮈'],\n",
        "           ['부활', '톨스토이'],\n",
        "           ['신곡', '단테'],\n",
        "           ['돈키호테', '세브반테스'],\n",
        "           ['동물농장', '조지오웰'],\n",
        "           ['데미안','헤르만헤세'],\n",
        "           ['파우스트', '괴테'],\n",
        "           ['대지', '펄벅']\n",
        "]\n",
        "random.shuffle(bookAry)\n",
        "node = TreeNode()\n",
        "node.data = bookAry[0][0]\n",
        "rootBook = node\n",
        "memory.append(node)\n",
        "for book in bookAry[1:]:\n",
        "    name = book[0]\n",
        "    node = TreeNode()\n",
        "    node.data = name\n",
        "    current = rootBook\n",
        "    while True:\n",
        "        if name < current.data:\n",
        "            if current.left == None:\n",
        "                current.left = node\n",
        "                break\n",
        "            current = current.left\n",
        "        else:\n",
        "            if current.right == None:\n",
        "                current.right = node\n",
        "                break\n",
        "            current = current.right\n",
        "    memory.append(node)\n",
        "print('책 이름 트리 구성 완료!')\n",
        "node = TreeNode()\n",
        "node.data = bookAry[0][1]\n",
        "rootAuth = node\n",
        "memory.append(node)\n",
        "for book in bookAry[1:]:\n",
        "    name = book[1]\n",
        "    node = TreeNode()\n",
        "    node.data = name\n",
        "    current = rootAuth\n",
        "    while True:\n",
        "        if name < current.data:\n",
        "            if current.left == None:\n",
        "                current.left = node\n",
        "                break\n",
        "            current = current.left\n",
        "        else:\n",
        "            if current.right == None:\n",
        "                current.right = node\n",
        "                break\n",
        "            current = current.right\n",
        "    memory.append(node)\n",
        "print('작가 이름 트리 구성 완료!')\n",
        "bookOrAuth = int(input('책검색(1), 작가검색(2) --> '))\n",
        "findName = input('검색할 책 또는 작가 --> ')\n",
        "if bookOrAuth == 1:\n",
        "    root = rootBook\n",
        "else:\n",
        "    root = rootAuth\n",
        "current = root\n",
        "while True:\n",
        "    if findName == current.data:\n",
        "        print(findName, '을(를) 찾음.')\n",
        "        findYN = True\n",
        "        break\n",
        "    elif findName < current.data:\n",
        "        if current.left == None:\n",
        "            print(findName, '이(가) 목록에 없음')\n",
        "            break\n",
        "        current = current.left\n",
        "    else:\n",
        "        if current.right == None:\n",
        "            print(findName, '이(가) 목록에 없음')\n",
        "            break\n",
        "        current = current.right"
      ],
      "execution_count": 6,
      "outputs": [
        {
          "output_type": "stream",
          "text": [
            "책 이름 트리 구성 완료!\n",
            "작가 이름 트리 구성 완료!\n",
            "책검색(1), 작가검색(2) --> 1\n",
            "검색할 책 또는 작가 --> 어린왕자\n",
            "어린왕자 을(를) 찾음.\n"
          ],
          "name": "stdout"
        }
      ]
    }
  ]
}