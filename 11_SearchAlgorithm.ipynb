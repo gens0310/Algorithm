{
  "nbformat": 4,
  "nbformat_minor": 0,
  "metadata": {
    "colab": {
      "name": "SearchAlgorithm.ipynb",
      "provenance": [],
      "collapsed_sections": []
    },
    "kernelspec": {
      "name": "python3",
      "display_name": "Python 3"
    },
    "language_info": {
      "name": "python"
    }
  },
  "cells": [
    {
      "cell_type": "markdown",
      "metadata": {
        "id": "hrY0uxZUYjQz"
      },
      "source": [
        "# 검색 알고리즘"
      ]
    },
    {
      "cell_type": "code",
      "metadata": {
        "id": "f6a111gIYeKu",
        "colab": {
          "base_uri": "https://localhost:8080/"
        },
        "outputId": "590306d3-44bf-4388-c0f0-75641d15a682"
      },
      "source": [
        "def seqSearch(ary, fData):\n",
        "    pos = -1\n",
        "    size = len(ary)\n",
        "    print('## 비교한 데이터 ==> ', end = '')\n",
        "    for i in range(size):\n",
        "        print(ary[i], end = ' ')\n",
        "        if ary[i] == fData :\n",
        "            pos = i\n",
        "            break\n",
        "    print()\n",
        "    return pos\n",
        "dataAry = [188, 150, 168, 162, 105, 120, 177, 50]\n",
        "findData = 0\n",
        "findData = int(input('* 찾을 값을 입력하세요. --> '))\n",
        "print('배열 --> ', dataAry)\n",
        "position = seqSearch(dataAry, findData)\n",
        "if position == -1:\n",
        "    print(findData, '(이)가 없네요.')\n",
        "else:\n",
        "    print(findData,'(은)는 ', position, '위치에 있음')"
      ],
      "execution_count": 1,
      "outputs": [
        {
          "output_type": "stream",
          "text": [
            "* 찾을 값을 입력하세요. --> 150\n",
            "배열 -->  [188, 150, 168, 162, 105, 120, 177, 50]\n",
            "## 비교한 데이터 ==> 188 150 \n",
            "150 (은)는  1 위치에 있음\n"
          ],
          "name": "stdout"
        }
      ]
    },
    {
      "cell_type": "code",
      "metadata": {
        "colab": {
          "base_uri": "https://localhost:8080/"
        },
        "id": "0uo8ZNtUbLU4",
        "outputId": "a6bdf474-7a4e-468f-e9d8-28db432fc818"
      },
      "source": [
        "def seqSearch(ary, fData):\n",
        "    pos = -1\n",
        "    size = len(ary)\n",
        "    print('## 비교한 데이터 ==> ', end = '')\n",
        "    for i in range(size):\n",
        "        print(ary[i], end = ' ')\n",
        "        if ary[i] == fData:\n",
        "            pos = i\n",
        "            break\n",
        "        elif ary[i] > fData:\n",
        "            break\n",
        "    print()\n",
        "    return pos\n",
        "dataAry = [188, 150, 168, 162, 105, 120, 177, 50]\n",
        "findData = 0\n",
        "dataAry.sort()\n",
        "findData = int(input('* 찾을 값을 입력하세요. --> '))\n",
        "print('배열 --> ', dataAry)\n",
        "position = seqSearch(dataAry, findData)\n",
        "if position == -1:\n",
        "    print(findData, '(이)가 없네요.')\n",
        "else:\n",
        "    print(findData, '(은)는 ', position, '위치에 있음')"
      ],
      "execution_count": 2,
      "outputs": [
        {
          "output_type": "stream",
          "text": [
            "* 찾을 값을 입력하세요. --> 168\n",
            "배열 -->  [50, 105, 120, 150, 162, 168, 177, 188]\n",
            "## 비교한 데이터 ==> 50 105 120 150 162 168 \n",
            "168 (은)는  5 위치에 있음\n"
          ],
          "name": "stdout"
        }
      ]
    },
    {
      "cell_type": "code",
      "metadata": {
        "colab": {
          "base_uri": "https://localhost:8080/"
        },
        "id": "jsrbBvrhbhEm",
        "outputId": "a8936f9e-b3c1-4641-c9ac-62435d3d076b"
      },
      "source": [
        "def binSearch(ary, fData):\n",
        "    pos = -1\n",
        "    start = 0\n",
        "    end = len(ary) - 1\n",
        "    while start <= end:\n",
        "        mid = (start + end) // 2\n",
        "        if fData == ary[mid]:\n",
        "            return mid\n",
        "        elif fData > ary[mid]:\n",
        "            start = mid + 1\n",
        "        else:\n",
        "            end = mid - 1\n",
        "    return pos\n",
        "dataAry = [ 50, 60, 105, 120, 150, 160, 162, 168, 177, 188]\n",
        "findData = 162\n",
        "print('배열 --> ', dataAry)\n",
        "position = binSearch(dataAry, findData)\n",
        "if position == -1:\n",
        "    print(findData,'(이)가 없네요.')\n",
        "else:\n",
        "    print(findData,'(은)는 ', position, '위치에 있음')"
      ],
      "execution_count": 3,
      "outputs": [
        {
          "output_type": "stream",
          "text": [
            "배열 -->  [50, 60, 105, 120, 150, 160, 162, 168, 177, 188]\n",
            "162 (은)는  6 위치에 있음\n"
          ],
          "name": "stdout"
        }
      ]
    },
    {
      "cell_type": "code",
      "metadata": {
        "colab": {
          "base_uri": "https://localhost:8080/"
        },
        "id": "rkr0NuyAb4eA",
        "outputId": "de17db9a-126b-4555-b30c-686879d6d23f"
      },
      "source": [
        "from operator import itemgetter\n",
        "def makeIndex(ary, pos):\n",
        "    beforeAry = []\n",
        "    index = 0\n",
        "    for data in ary:\n",
        "        beforeAry.append((data[pos], index))\n",
        "        index += 1\n",
        "    sortedAry = sorted(beforeAry, key = itemgetter(0))\n",
        "    return sortedAry\n",
        "def bookSearch(ary, fData):\n",
        "    pos = -1\n",
        "    start = 0\n",
        "    end = len(ary) - 1\n",
        "    while start <= end:\n",
        "        mid = (start + end) // 2\n",
        "        if fData == ary[mid][0]:\n",
        "            return ary[mid][1]\n",
        "        elif fData > ary[mid][0]:\n",
        "            start = mid + 1\n",
        "        else:\n",
        "            end = mid - 1\n",
        "    return pos\n",
        "bookAry = [\n",
        "           ['어린왕자', '쌩떽쥐베리'],\n",
        "           ['이방인', '까뮈'],\n",
        "           ['부활', '톨스토이'],\n",
        "           ['신곡', '단테'],\n",
        "           ['돈키호테', '세르반테스'],\n",
        "           ['동물농장', '조지오웰'],\n",
        "           ['데미안','헤르만헤세'],\n",
        "           ['파우스트', '괴테'],\n",
        "           ['대지', '펄벅']\n",
        "]\n",
        "nameIndex = []\n",
        "authIndex = []\n",
        "print('#책장의 도서 ==> ', bookAry)\n",
        "nameIndex = makeIndex(bookAry, 0)\n",
        "print('#도서명 색인표 ==> ', nameIndex)\n",
        "authIndex = makeIndex(bookAry, 1)\n",
        "print('#작가명 색인표 ==> ', authIndex)\n",
        "findName = '신곡'\n",
        "findPos = bookSearch(nameIndex, findName)\n",
        "if findPos != -1:\n",
        "    print(findName, '의 작가는', bookAry[findPos][1], '입니다.')\n",
        "else:\n",
        "    print(findName, ' 책은 없습니다.')\n",
        "findName = '괴테'\n",
        "findPos = bookSearch(authIndex, findName)\n",
        "if findPos != -1:\n",
        "    print(findName, '의 도서는', bookAry[findPos][0], '입니다.')\n",
        "else:\n",
        "    print(findName, ' 작가는 없습니다.')"
      ],
      "execution_count": 4,
      "outputs": [
        {
          "output_type": "stream",
          "text": [
            "#책장의 도서 ==>  [['어린왕자', '쌩떽쥐베리'], ['이방인', '까뮈'], ['부활', '톨스토이'], ['신곡', '단테'], ['돈키호테', '세르반테스'], ['동물농장', '조지오웰'], ['데미안', '헤르만헤세'], ['파우스트', '괴테'], ['대지', '펄벅']]\n",
            "#도서명 색인표 ==>  [('대지', 8), ('데미안', 6), ('돈키호테', 4), ('동물농장', 5), ('부활', 2), ('신곡', 3), ('어린왕자', 0), ('이방인', 1), ('파우스트', 7)]\n",
            "#작가명 색인표 ==>  [('괴테', 7), ('까뮈', 1), ('단테', 3), ('세르반테스', 4), ('쌩떽쥐베리', 0), ('조지오웰', 5), ('톨스토이', 2), ('펄벅', 8), ('헤르만헤세', 6)]\n",
            "신곡 의 작가는 단테 입니다.\n",
            "괴테 의 도서는 파우스트 입니다.\n"
          ],
          "name": "stdout"
        }
      ]
    },
    {
      "cell_type": "code",
      "metadata": {
        "colab": {
          "base_uri": "https://localhost:8080/"
        },
        "id": "bDSuzl1ecq4-",
        "outputId": "09e502d0-1bb7-4b4a-f71f-5de68fd94069"
      },
      "source": [
        "def knapsack():\n",
        "    print('## 메모이제이션 배열 ##')\n",
        "    array = [[0 for _ in range(maxWeight + 1)] for _ in range(rowCount + 1)]\n",
        "    for row in range(1, rowCount + 1):\n",
        "        print(row, '개 --> ', end = ' ')\n",
        "        for col in range(1, maxWeight+1):\n",
        "            if weight[row] > col:\n",
        "                array[row][col] = array[row - 1][col]\n",
        "            else:\n",
        "                value1 = money[row] + array[row - 1][col - weight[row]]\n",
        "                value2 = array[row - 1][col]\n",
        "                array[row][col] = max(value1, value2)\n",
        "            print('%2d' % array[row][col], end = ' ')\n",
        "        print()\n",
        "    return array[rowCount][maxWeight]\n",
        "maxWeight = 7\n",
        "rowCount = 4\n",
        "weight = [0, 6, 4, 3, 5]\n",
        "money = [0, 13, 8, 6, 12]\n",
        "maxValue = knapsack()\n",
        "print()\n",
        "print('배낭에 담을 수 있는 보석의 최대 가격 --> ', maxValue, '억원')"
      ],
      "execution_count": 5,
      "outputs": [
        {
          "output_type": "stream",
          "text": [
            "## 메모이제이션 배열 ##\n",
            "1 개 -->   0  0  0  0  0 13 13 \n",
            "2 개 -->   0  0  0  8  8 13 13 \n",
            "3 개 -->   0  0  6  8  8 13 14 \n",
            "4 개 -->   0  0  6  8 12 13 14 \n",
            "\n",
            "배낭에 담을 수 있는 보석의 최대 가격 -->  14 억원\n"
          ],
          "name": "stdout"
        }
      ]
    },
    {
      "cell_type": "code",
      "metadata": {
        "colab": {
          "base_uri": "https://localhost:8080/"
        },
        "id": "GVU4XXibfj-f",
        "outputId": "317dd89a-f96e-4906-e433-a9e7f80e0979"
      },
      "source": [
        "def growRich():\n",
        "    memo = [[0 for _ in range(COL)] for _ in range(ROW)]\n",
        "    memo[0][0] = goldMaze[0][0]\n",
        "    rowSum = memo[0][0]\n",
        "    for i in range(1, ROW):\n",
        "        rowSum += goldMaze[0][i]\n",
        "        memo[0][i] = rowSum\n",
        "    colSum = memo[0][0]\n",
        "    for i in range(1, COL):\n",
        "        colSum += goldMaze[i][0]\n",
        "        memo[i][0] = colSum\n",
        "    for row in range(1, ROW):\n",
        "        for col in range(1, COL):\n",
        "            if (memo[row][col - 1] > memo[row - 1][col]):\n",
        "                memo[row][col] = memo[row][col - 1] + goldMaze[row][col]\n",
        "            else:\n",
        "                memo[row][col] = memo[row - 1][col] + goldMaze[row][col]\n",
        "    return memo[ROW - 1][COL - 1]\n",
        "ROW, COL = 5, 5\n",
        "goldMaze = [\n",
        "            [1, 4, 4, 2, 2],\n",
        "            [1, 3, 3, 0, 5],\n",
        "            [1, 2, 4, 3, 0],\n",
        "            [3, 3, 0, 4, 2],\n",
        "            [1, 3, 4, 5, 3]\n",
        "]\n",
        "macolGold = growRich()\n",
        "print('황금 미로에서 얻은 최대 황금 개수 --> ', macolGold)"
      ],
      "execution_count": 6,
      "outputs": [
        {
          "output_type": "stream",
          "text": [
            "황금 미로에서 얻은 최대 황금 개수 -->  31\n"
          ],
          "name": "stdout"
        }
      ]
    }
  ]
}