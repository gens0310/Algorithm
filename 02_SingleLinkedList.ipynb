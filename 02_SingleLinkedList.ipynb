{
  "nbformat": 4,
  "nbformat_minor": 0,
  "metadata": {
    "colab": {
      "name": "SingleLinkedList.ipynb",
      "provenance": [],
      "collapsed_sections": []
    },
    "kernelspec": {
      "name": "python3",
      "display_name": "Python 3"
    },
    "language_info": {
      "name": "python"
    }
  },
  "cells": [
    {
      "cell_type": "markdown",
      "metadata": {
        "id": "s5VvPNvmy2mt"
      },
      "source": [
        "# 단순 연결 리스트"
      ]
    },
    {
      "cell_type": "code",
      "metadata": {
        "id": "kksI3Gn3yI6j"
      },
      "source": [
        "class Node():\n",
        "    def __init__ (self):\n",
        "        self.data = None\n",
        "        self.link = None"
      ],
      "execution_count": 1,
      "outputs": []
    },
    {
      "cell_type": "markdown",
      "metadata": {
        "id": "iKux_f8n-ycu"
      },
      "source": [
        "## 다연 -> 정연 -> 쯔위 -> 사나 -> 지효"
      ]
    },
    {
      "cell_type": "code",
      "metadata": {
        "id": "UY0U5Oy1yMPP",
        "colab": {
          "base_uri": "https://localhost:8080/"
        },
        "outputId": "a1770fa4-52a2-499a-afab-0895682e3835"
      },
      "source": [
        "node1 = Node()\n",
        "node1.data = '다현'\n",
        "node2 = Node()\n",
        "node2.data = '정연'\n",
        "node1.link = node2\n",
        "node3 = Node()\n",
        "node3.data = '쯔위'\n",
        "node2.link = node3\n",
        "node4 = Node()\n",
        "node4.data = '사나'\n",
        "node3.link = node4\n",
        "node5 = Node()\n",
        "node5.data = '지효'\n",
        "node4.link = node5\n",
        "print(node1.data, end = ' ')\n",
        "print(node1.link.data, end = ' ')\n",
        "print(node1.link.link.data, end = ' ')\n",
        "print(node1.link.link.link.data, end = ' ')\n",
        "print(node1.link.link.link.link.data, end = ' ')"
      ],
      "execution_count": 2,
      "outputs": [
        {
          "output_type": "stream",
          "text": [
            "다현 정연 쯔위 사나 지효 "
          ],
          "name": "stdout"
        }
      ]
    },
    {
      "cell_type": "code",
      "metadata": {
        "id": "bFIF3o0HySey",
        "colab": {
          "base_uri": "https://localhost:8080/"
        },
        "outputId": "79279d60-d984-4bdd-a560-ec5b66809a29"
      },
      "source": [
        "node1 = Node()\n",
        "node1.data = '다현'\n",
        "node2 = Node()\n",
        "node2.data = '정연'\n",
        "node1.link = node2\n",
        "node3 = Node()\n",
        "node3.data = '쯔위'\n",
        "node2.link = node3\n",
        "node4 = Node()\n",
        "node4.data = '사나'\n",
        "node3.link = node4\n",
        "node5 = Node()\n",
        "node5.data = '지효'\n",
        "node4.link = node5\n",
        "current = node1\n",
        "print(current.data, end = ' ')\n",
        "while current.link != None:\n",
        "    current = current.link\n",
        "    print(current.data, end = ' ')"
      ],
      "execution_count": 3,
      "outputs": [
        {
          "output_type": "stream",
          "text": [
            "다현 정연 쯔위 사나 지효 "
          ],
          "name": "stdout"
        }
      ]
    },
    {
      "cell_type": "markdown",
      "metadata": {
        "id": "vsrhgZRV--uM"
      },
      "source": [
        "## 다현 -> 정연 -> 쯔위 -> 사나 -> 지효\n",
        "## Insert 재남 Node 2 Link : 다현 -> 정연 -> 재남 -> 쯔위 -> 사나 -> 지효"
      ]
    },
    {
      "cell_type": "code",
      "metadata": {
        "id": "nB156TnCyV31",
        "colab": {
          "base_uri": "https://localhost:8080/"
        },
        "outputId": "16114793-ef13-4285-d4f1-f841aa823c9a"
      },
      "source": [
        "node1 = Node()\n",
        "node1.data = '다현'\n",
        "node2 = Node()\n",
        "node2.data = '정연'\n",
        "node1.link = node2\n",
        "node3 = Node()\n",
        "node3.data = '쯔위'\n",
        "node2.link = node3\n",
        "node4 = Node()\n",
        "node4.data = '사나'\n",
        "node3.link = node4\n",
        "node5 = Node()\n",
        "node5.data = '지효'\n",
        "node4.link = node5\n",
        "newNode = Node()\n",
        "newNode.data = '재남'\n",
        "newNode.link = node2.link\n",
        "node2.link = newNode\n",
        "current = node1\n",
        "print(current.data, end = ' ')\n",
        "while current.link != None:\n",
        "    current = current.link\n",
        "    print(current.data, end = ' ')"
      ],
      "execution_count": 4,
      "outputs": [
        {
          "output_type": "stream",
          "text": [
            "다현 정연 재남 쯔위 사나 지효 "
          ],
          "name": "stdout"
        }
      ]
    },
    {
      "cell_type": "markdown",
      "metadata": {
        "id": "CKQu7Yd5_OSF"
      },
      "source": [
        "## 다현 -> 정연 -> 쯔위 -> 사나 -> 지효\n",
        "## Delete Node 3 : 다현 -> 정연 -> 사나 -> 지효"
      ]
    },
    {
      "cell_type": "code",
      "metadata": {
        "id": "Oz0-unrmyZEX",
        "colab": {
          "base_uri": "https://localhost:8080/"
        },
        "outputId": "1425b60e-4cb5-4aa3-a47f-e223e6293671"
      },
      "source": [
        "node1 = Node()\n",
        "node1.data = '다현'\n",
        "node2 = Node()\n",
        "node2.data = '정연'\n",
        "node1.link = node2\n",
        "node3 = Node()\n",
        "node3.data = '쯔위'\n",
        "node2.link = node3\n",
        "node4 = Node()\n",
        "node4.data = '사나'\n",
        "node3.link = node4\n",
        "node5 = Node()\n",
        "node5.data = '지효'\n",
        "node4.link = node5\n",
        "node2.link = node3.link\n",
        "del(node3)\n",
        "current = node1\n",
        "print(current.data, end = ' ')\n",
        "while current.link != None:\n",
        "    current = current.link\n",
        "    print(current.data, end = ' ')"
      ],
      "execution_count": 5,
      "outputs": [
        {
          "output_type": "stream",
          "text": [
            "다현 정연 사나 지효 "
          ],
          "name": "stdout"
        }
      ]
    },
    {
      "cell_type": "code",
      "metadata": {
        "id": "9GISM_ouyeyg",
        "colab": {
          "base_uri": "https://localhost:8080/"
        },
        "outputId": "628b0fa1-c204-4e92-b9be-82b8817903a2"
      },
      "source": [
        "class Node():\n",
        "    def __init__ (self):\n",
        "        self.data = None\n",
        "        self.link = None\n",
        "def printNodes(start):\n",
        "    current = start\n",
        "    if current == None:\n",
        "        return\n",
        "    print(current.data, end = ' ')\n",
        "    while current.link != None:\n",
        "        current = current.link\n",
        "        print(current.data, end = ' ')\n",
        "    print()\n",
        "memory = []\n",
        "head, current, pre = None, None, None\n",
        "dataArray = ['다현', '정연', '쯔위', '사나', '지효']\n",
        "if __name__ == '__main__':\n",
        "    node = Node()\n",
        "    node.data = dataArray[0]\n",
        "    head = node\n",
        "    memory.append(node)\n",
        "    for data in dataArray[1:]:\n",
        "        pre = node\n",
        "        node = Node()\n",
        "        node.data = data\n",
        "        pre.link = node\n",
        "        memory.append(node)\n",
        "    printNodes(head)"
      ],
      "execution_count": 6,
      "outputs": [
        {
          "output_type": "stream",
          "text": [
            "다현 정연 쯔위 사나 지효 \n"
          ],
          "name": "stdout"
        }
      ]
    },
    {
      "cell_type": "markdown",
      "metadata": {
        "id": "l9_1Ldnx_vkd"
      },
      "source": [
        "## 다현 -> 정연 -> 쯔위 -> 사나 -> 지효\n",
        "## Insert 화사 Node 다현 Head : 화사 -> 다현 -> 정연 -> 쯔위 -> 사나 -> 지효\n",
        "## Insert 솔라 Node 사나 Head : 화사 -> 다현 -> 정연 -> 쯔위 -> 솔라 -> 사나 -> 지효\n",
        "## Insert 문별 Node 재남 Head : 화사 -> 다현 -> 정연 -> 쯔위 -> 솔라 -> 사나 -> 지효 -> 문별"
      ]
    },
    {
      "cell_type": "code",
      "metadata": {
        "id": "5ulVPxJXyiVi",
        "colab": {
          "base_uri": "https://localhost:8080/"
        },
        "outputId": "5d5eda4a-ef5d-4ec4-b070-72d8cb000841"
      },
      "source": [
        "class Node():\n",
        "    def __init__ (self):\n",
        "        self.data = None\n",
        "        self.link = None\n",
        "def printNodes(start):\n",
        "    current = start\n",
        "    if current == None:\n",
        "        return\n",
        "    print(current.data, end = ' ')\n",
        "    while current.link != None:\n",
        "        current = current.link\n",
        "        print(current.data, end = ' ')\n",
        "    print()\n",
        "def insertNode(findData, insertData):\n",
        "    global memory, head, current, pre\n",
        "    if head.data == findData:\n",
        "        node = Node()\n",
        "        node.data = insertData\n",
        "        node.link = head\n",
        "        head = node\n",
        "        return\n",
        "    current = head\n",
        "    while current.link != None:\n",
        "        pre = current\n",
        "        current = current.link\n",
        "        if current.data == findData:\n",
        "            node = Node()\n",
        "            node.data = insertData\n",
        "            node.link = current\n",
        "            pre.link = node\n",
        "            return\n",
        "    node = Node()\n",
        "    node.data = insertData\n",
        "    current.link = node\n",
        "memory = []\n",
        "head, current, pre = None, None, None\n",
        "dataArray = ['다현', '정연', '쯔위', '사나', '지효']\n",
        "if __name__ == '__main__':\n",
        "    node = Node()\n",
        "    node.data = dataArray[0]\n",
        "    head = node\n",
        "    memory.append(node)\n",
        "    for data in dataArray[1:]:\n",
        "        pre = node\n",
        "        node = Node()\n",
        "        node.data = data\n",
        "        pre.link = node\n",
        "        memory.append(node)\n",
        "    printNodes(head)\n",
        "    insertNode('다현', '화사')\n",
        "    printNodes(head)\n",
        "    insertNode('사나', '솔라')\n",
        "    printNodes(head)\n",
        "    insertNode('재남', '문별')\n",
        "    printNodes(head)"
      ],
      "execution_count": 7,
      "outputs": [
        {
          "output_type": "stream",
          "text": [
            "다현 정연 쯔위 사나 지효 \n",
            "화사 다현 정연 쯔위 사나 지효 \n",
            "화사 다현 정연 쯔위 솔라 사나 지효 \n",
            "화사 다현 정연 쯔위 솔라 사나 지효 문별 \n"
          ],
          "name": "stdout"
        }
      ]
    },
    {
      "cell_type": "markdown",
      "metadata": {
        "id": "WR-FYLt0AaHF"
      },
      "source": [
        "## 다현 -> 정연 -> 쯔위 -> 사나 -> 지효\n",
        "## Delete 다현 : 정연 -> 쯔위 -> 사나 -> 지효\n",
        "## Delete 쯔위 : 정연 -> 사나 -> 지효\n",
        "## Delete 지효 : 정연 -> 사나\n",
        "## Delete 재남 : 정연 -> 사나"
      ]
    },
    {
      "cell_type": "code",
      "metadata": {
        "id": "wkzKiS6Jym8u",
        "colab": {
          "base_uri": "https://localhost:8080/"
        },
        "outputId": "a11de26b-8b10-4ff4-c98f-d4c982babc66"
      },
      "source": [
        "class Node():\n",
        "    def __init__ (self):\n",
        "        self.data = None\n",
        "        self.link = None\n",
        "def printNodes(start):\n",
        "    current = start\n",
        "    if current == None:\n",
        "        return\n",
        "    print(current.data, end = ' ')\n",
        "    while current.link != None:\n",
        "        current = current.link\n",
        "        print(current.data, end = ' ')\n",
        "    print()\n",
        "def deleteNode(deleteData):\n",
        "    global memory, head, current, pre\n",
        "    if head.data == deleteData:\n",
        "        current = head\n",
        "        head = head.link\n",
        "        del(current)\n",
        "        return\n",
        "    current = head\n",
        "    while current.link != None:\n",
        "        pre = current\n",
        "        current = current.link\n",
        "        if current.data == deleteData:\n",
        "            pre.link = current.link\n",
        "            del(current)\n",
        "            return\n",
        "memory = []\n",
        "head, current, pre = None, None, None\n",
        "dataArray = ['다현', '정연', '쯔위', '사나', '지효']\n",
        "if __name__ == '__main__':\n",
        "    node = Node()\n",
        "    node.data = dataArray[0]\n",
        "    head = node\n",
        "    memory.append(node)\n",
        "    for data in dataArray[1:]:\n",
        "        pre = node\n",
        "        node = Node()\n",
        "        node.data = data\n",
        "        pre.link = node\n",
        "        memory.append(node)\n",
        "    printNodes(head)\n",
        "    deleteNode('다현')\n",
        "    printNodes(head)\n",
        "    deleteNode('쯔위')\n",
        "    printNodes(head)\n",
        "    deleteNode('지효')\n",
        "    printNodes(head)\n",
        "    deleteNode('재남')\n",
        "    printNodes(head)"
      ],
      "execution_count": 8,
      "outputs": [
        {
          "output_type": "stream",
          "text": [
            "다현 정연 쯔위 사나 지효 \n",
            "정연 쯔위 사나 지효 \n",
            "정연 사나 지효 \n",
            "정연 사나 \n",
            "정연 사나 \n"
          ],
          "name": "stdout"
        }
      ]
    },
    {
      "cell_type": "markdown",
      "metadata": {
        "id": "Q8gGvviCBmCK"
      },
      "source": [
        "## 다현 -> 정연 -> 쯔위 -> 사나 -> 지효 \n",
        "## Find 다현 : 다현\n",
        "## Find 쯔위 : 쯔위\n",
        "## Find 재남 : None"
      ]
    },
    {
      "cell_type": "code",
      "metadata": {
        "id": "36zzZX-ByqH5",
        "colab": {
          "base_uri": "https://localhost:8080/"
        },
        "outputId": "502154cc-4a74-4279-e8fd-e9b3f5807e6c"
      },
      "source": [
        "class Node():\n",
        "    def __init__ (self):\n",
        "        self.data = None\n",
        "        self.link = None\n",
        "def printNodes(start):\n",
        "    current = start\n",
        "    if current == None:\n",
        "        return\n",
        "    print(current.data, end = ' ')\n",
        "    while current.link != None:\n",
        "        current = current.link\n",
        "        print(current.data, end = ' ')\n",
        "    print()\n",
        "def findNode(findData):\n",
        "    global memory, head, current, pre\n",
        "    current = head\n",
        "    if current.data == findData:\n",
        "        return current\n",
        "    while current.link != None:\n",
        "        current = current.link\n",
        "        if current.data == findData:\n",
        "            return current\n",
        "    return Node()\n",
        "memory = []\n",
        "head, current, pre = None, None, None\n",
        "dataArray = ['다현', '정연', '쯔위', '사나', '지효']\n",
        "if __name__ == '__main__':\n",
        "    node = Node()\n",
        "    node.data = dataArray[0]\n",
        "    head = node\n",
        "    memory.append(node)\n",
        "    for data in dataArray[1:]:\n",
        "        pre = node\n",
        "        node = Node()\n",
        "        node.data = data\n",
        "        pre.link = node\n",
        "        memory.append(node)\n",
        "    printNodes(head)\n",
        "    fNode = findNode('다현')\n",
        "    print(fNode.data)\n",
        "    fNode = findNode('쯔위')\n",
        "    print(fNode.data)\n",
        "    fNode = findNode('재남')\n",
        "    print(fNode.data)"
      ],
      "execution_count": 9,
      "outputs": [
        {
          "output_type": "stream",
          "text": [
            "다현 정연 쯔위 사나 지효 \n",
            "다현\n",
            "쯔위\n",
            "None\n"
          ],
          "name": "stdout"
        }
      ]
    },
    {
      "cell_type": "code",
      "metadata": {
        "id": "Mamn26owysuo",
        "colab": {
          "base_uri": "https://localhost:8080/"
        },
        "outputId": "d036f831-8841-4a19-fa43-018382404d07"
      },
      "source": [
        "class Node():\n",
        "    def __init__ (self):\n",
        "        self.data = None\n",
        "        self.link = None\n",
        "def printNodes(start):\n",
        "    current = start\n",
        "    if current == None:\n",
        "        return\n",
        "    print(current.data, end = ' ')\n",
        "    while current.link != None:\n",
        "        current = current.link\n",
        "        print(current.data, end = ' ')\n",
        "    print()\n",
        "def makeSimpleLinkedList(namePhone):\n",
        "    global memory, head, current, pre\n",
        "    printNodes(head)\n",
        "    node = Node()\n",
        "    node.data = namePhone\n",
        "    memory.append(node)\n",
        "    if head == None:\n",
        "        head = node\n",
        "        return\n",
        "    if head.data[0] > namePhone[0]:\n",
        "        node.link = head\n",
        "        head = node\n",
        "        return\n",
        "    current = head\n",
        "    while current.link != None:\n",
        "        pre = current\n",
        "        current = current.link\n",
        "        if current.data[0] > namePhone[0]:\n",
        "            pre.link = node\n",
        "            node.link = current\n",
        "            return\n",
        "    current.link = node\n",
        "memory = []\n",
        "head, current, pre = None, None, None\n",
        "dataArray = [['지민', '010-1111-1111'],\n",
        "             ['정국', '010-2222-2222'],\n",
        "             ['뷔', '010-3333-3333'],\n",
        "             ['슈가', '010-4444-4444'],\n",
        "             ['진', '010-5555-5555']]\n",
        "if __name__ == '__main__':\n",
        "    for data in dataArray:\n",
        "        makeSimpleLinkedList(data)\n",
        "    printNodes(head)"
      ],
      "execution_count": 10,
      "outputs": [
        {
          "output_type": "stream",
          "text": [
            "['지민', '010-1111-1111'] \n",
            "['정국', '010-2222-2222'] ['지민', '010-1111-1111'] \n",
            "['뷔', '010-3333-3333'] ['정국', '010-2222-2222'] ['지민', '010-1111-1111'] \n",
            "['뷔', '010-3333-3333'] ['슈가', '010-4444-4444'] ['정국', '010-2222-2222'] ['지민', '010-1111-1111'] \n",
            "['뷔', '010-3333-3333'] ['슈가', '010-4444-4444'] ['정국', '010-2222-2222'] ['지민', '010-1111-1111'] ['진', '010-5555-5555'] \n"
          ],
          "name": "stdout"
        }
      ]
    }
  ]
}