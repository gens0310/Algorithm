{
  "nbformat": 4,
  "nbformat_minor": 0,
  "metadata": {
    "colab": {
      "name": "Stack.ipynb",
      "provenance": [],
      "collapsed_sections": []
    },
    "kernelspec": {
      "name": "python3",
      "display_name": "Python 3"
    },
    "language_info": {
      "name": "python"
    }
  },
  "cells": [
    {
      "cell_type": "code",
      "metadata": {
        "id": "08DNEz6HPRwm",
        "colab": {
          "base_uri": "https://localhost:8080/"
        },
        "outputId": "b19f386f-86a4-4819-f9b5-5be1d7bbec68"
      },
      "source": [
        "stack = [None, None, None, None, None]\n",
        "top = -1\n",
        "top += 1\n",
        "stack[top] = '커피'\n",
        "top += 1\n",
        "stack[top] = '녹차'\n",
        "top += 1\n",
        "stack[top] = '꿀물'\n",
        "print('----- 스택 상태 -----')\n",
        "for i in range(len(stack)-1, -1, -1):\n",
        "    print(stack[i])"
      ],
      "execution_count": null,
      "outputs": [
        {
          "output_type": "stream",
          "text": [
            "----- 스택 상태 -----\n",
            "None\n",
            "None\n",
            "꿀물\n",
            "녹차\n",
            "커피\n"
          ],
          "name": "stdout"
        }
      ]
    },
    {
      "cell_type": "code",
      "metadata": {
        "colab": {
          "base_uri": "https://localhost:8080/"
        },
        "id": "Rr7km9vHLQqd",
        "outputId": "9089eae8-9370-407a-d725-f22f264177c9"
      },
      "source": [
        "stack = ['커피', '녹차', '꿀물', None, None]\n",
        "top = 2\n",
        "print('----- 스택 상태 -----')\n",
        "for i in range(len(stack)-1, -1, -1):\n",
        "    print(stack[i])\n",
        "print('---------------------')\n",
        "data = stack[top]\n",
        "stack[top] = None\n",
        "top -= 1\n",
        "print('pop --> ', data)\n",
        "data = stack[top]\n",
        "stack[top] = None\n",
        "top -= 1\n",
        "print('pop --> ', data)\n",
        "data = stack[top]\n",
        "stack[top] = None\n",
        "top -= 1\n",
        "print('pop --> ', data)\n",
        "print('---------------------')\n",
        "print('----- 스택 상태 -----')\n",
        "for i in range(len(stack)-1, -1, -1):\n",
        "    print(stack[i])"
      ],
      "execution_count": null,
      "outputs": [
        {
          "output_type": "stream",
          "text": [
            "----- 스택 상태 -----\n",
            "None\n",
            "None\n",
            "꿀물\n",
            "녹차\n",
            "커피\n",
            "---------------------\n",
            "pop -->  꿀물\n",
            "pop -->  녹차\n",
            "pop -->  커피\n",
            "---------------------\n",
            "----- 스택 상태 -----\n",
            "None\n",
            "None\n",
            "None\n",
            "None\n",
            "None\n"
          ],
          "name": "stdout"
        }
      ]
    },
    {
      "cell_type": "code",
      "metadata": {
        "colab": {
          "base_uri": "https://localhost:8080/"
        },
        "id": "4C6-APJiL2q1",
        "outputId": "42d00d67-1bce-4962-ab75-9f906c1c0b74"
      },
      "source": [
        "def isStackFull():\n",
        "    global SIZE, stack, top\n",
        "    if top >= SIZE-1:\n",
        "        return True\n",
        "    else:\n",
        "        return False\n",
        "SIZE = 5\n",
        "stack = ['커피', '녹차', '꿀물', '콜라', '환타']\n",
        "top = 4\n",
        "print('스택이 꽉 찼는지 여부 ==> ', isStackFull())"
      ],
      "execution_count": null,
      "outputs": [
        {
          "output_type": "stream",
          "text": [
            "스택이 꽉 찼는지 여부 ==>  True\n"
          ],
          "name": "stdout"
        }
      ]
    },
    {
      "cell_type": "code",
      "metadata": {
        "colab": {
          "base_uri": "https://localhost:8080/"
        },
        "id": "l7MmsIRgMKQN",
        "outputId": "1e299574-790c-4f68-a4fe-41c6a86b01c4"
      },
      "source": [
        "def isStackFull():\n",
        "    global SIZE, stack, top\n",
        "    if top >= SIZE-1:\n",
        "        return True\n",
        "    else:\n",
        "        return False\n",
        "def push(data):\n",
        "    global SIZE, stack, top\n",
        "    if isStackFull():\n",
        "        print('스택이 꽉 찼습니다.')\n",
        "        return\n",
        "    top += 1\n",
        "    stack[top] = data\n",
        "SIZE = 5\n",
        "stack = ['커피', '녹차', '꿀물', '콜라', None]\n",
        "top = 3\n",
        "print(stack)\n",
        "push('환타')\n",
        "print(stack)\n",
        "push('게토레이')"
      ],
      "execution_count": null,
      "outputs": [
        {
          "output_type": "stream",
          "text": [
            "['커피', '녹차', '꿀물', '콜라', None]\n",
            "['커피', '녹차', '꿀물', '콜라', '환타']\n",
            "스택이 꽉 찼습니다.\n"
          ],
          "name": "stdout"
        }
      ]
    },
    {
      "cell_type": "code",
      "metadata": {
        "colab": {
          "base_uri": "https://localhost:8080/"
        },
        "id": "MqCX9wrpMnyi",
        "outputId": "5132fd12-b6f9-41d7-e3c1-ede585bb9245"
      },
      "source": [
        "def isStackEmpty():\n",
        "    global SIZE, stack, top\n",
        "    if top == -1:\n",
        "        return True\n",
        "    else:\n",
        "        return False\n",
        "SIZE = 5\n",
        "stack = [None for _ in range(SIZE)]\n",
        "top = -1\n",
        "print('스택이 비었는지 여부 ==> ', isStackEmpty())"
      ],
      "execution_count": null,
      "outputs": [
        {
          "output_type": "stream",
          "text": [
            "스택이 비었는지 여부 ==>  True\n"
          ],
          "name": "stdout"
        }
      ]
    },
    {
      "cell_type": "code",
      "metadata": {
        "colab": {
          "base_uri": "https://localhost:8080/"
        },
        "id": "p9S4nDfmM5Se",
        "outputId": "7cffc05d-c92f-440c-b146-1eca39d4a677"
      },
      "source": [
        "def isStackEmpty():\n",
        "    global SIZE, stack, top\n",
        "    if top == -1:\n",
        "        return True\n",
        "    else:\n",
        "        return False\n",
        "def pop():\n",
        "    global SIZE, stack, top\n",
        "    if isStackEmpty():\n",
        "        print('스택이 비었습니다.')\n",
        "        return None\n",
        "    data = stack[top]\n",
        "    stack[top] = None\n",
        "    top -= 1\n",
        "    return data\n",
        "SIZE = 5\n",
        "stack = ['커피', None, None, None, None]\n",
        "top = 0\n",
        "print(stack)\n",
        "retData = pop()\n",
        "print('추출한 데이터 ==> ', retData)\n",
        "print(stack)\n",
        "retData = pop()"
      ],
      "execution_count": null,
      "outputs": [
        {
          "output_type": "stream",
          "text": [
            "['커피', None, None, None, None]\n",
            "추출한 데이터 ==>  커피\n",
            "[None, None, None, None, None]\n",
            "스택이 비었습니다.\n"
          ],
          "name": "stdout"
        }
      ]
    },
    {
      "cell_type": "code",
      "metadata": {
        "colab": {
          "base_uri": "https://localhost:8080/"
        },
        "id": "LtJGzJ58NS69",
        "outputId": "ac3a69b1-a3a4-41e1-d7b9-c4b3d90ef03f"
      },
      "source": [
        "def isStackEmpty():\n",
        "    global SIZE, stack, top\n",
        "    if top == -1:\n",
        "        return True\n",
        "    else:\n",
        "        return False\n",
        "def peek():\n",
        "    global SIZE, stack, top\n",
        "    if isStackEmpty():\n",
        "        print('스택이 비었습니다.')\n",
        "        return None\n",
        "    return stack[top]\n",
        "SIZE = 5\n",
        "stack = ['커피', '녹차', '꿀물', None, None]\n",
        "top = 2\n",
        "print(stack)\n",
        "retData = peek()\n",
        "print('top의 데이터 확인 ==>', retData)\n",
        "print(stack)"
      ],
      "execution_count": null,
      "outputs": [
        {
          "output_type": "stream",
          "text": [
            "['커피', '녹차', '꿀물', None, None]\n",
            "top의 데이터 확인 ==> 꿀물\n",
            "['커피', '녹차', '꿀물', None, None]\n"
          ],
          "name": "stdout"
        }
      ]
    },
    {
      "cell_type": "code",
      "metadata": {
        "colab": {
          "base_uri": "https://localhost:8080/"
        },
        "id": "QxmcOTR3NqTB",
        "outputId": "ef2ffe6f-64d2-46cf-8057-0e90a13f0547"
      },
      "source": [
        "def isStackFull():\n",
        "    global SIZE, stack, top\n",
        "    if top >= SIZE-1:\n",
        "        return True\n",
        "    else:\n",
        "        return False\n",
        "def isStackEmpty():\n",
        "    global SIZE, stack, top\n",
        "    if top == -1:\n",
        "        return True\n",
        "    else:\n",
        "        return False\n",
        "def push(data):\n",
        "    global SIZE, stack, top\n",
        "    if isStackFull():\n",
        "        print('스택이 꽉 찼습니다.')\n",
        "        return\n",
        "    top += 1\n",
        "    stack[top] = data\n",
        "def pop():\n",
        "    global SIZE, stack, top\n",
        "    if isStackEmpty():\n",
        "        print('스택이 비었습니다.')\n",
        "        return None\n",
        "    data = stack[top]\n",
        "    stack[top] = None\n",
        "    top -= 1\n",
        "    return data\n",
        "def peek():\n",
        "    global SIZE, stack, top\n",
        "    if isStackEmpty():\n",
        "        print('스택이 비었습니다.')\n",
        "        return None\n",
        "    return stack[top]\n",
        "SIZE = int(input('스택의 크기를 입력하세요 ==> '))\n",
        "stack = [None for _ in range(SIZE)]\n",
        "top = -1\n",
        "if __name__ == '__main__':\n",
        "    select = input('삽입(I)/추출(E)/확인(V)/종료(X) 중 하나를 선택 ==> ')\n",
        "    while select != 'X' and select != 'x':\n",
        "        if select=='I' or select =='i':\n",
        "            data = input('입력할 데이터 ==> ')\n",
        "            push(data)\n",
        "            print('스택 상태 : ', stack)\n",
        "        elif select=='E' or select =='e':\n",
        "            data = pop()\n",
        "            print('추출된 데이터 ==> ', data)\n",
        "            print('스택 상태 : ', stack)\n",
        "        elif select=='V' or select =='v':\n",
        "            data = peek()\n",
        "            print('확인된 데이터 ==> ', data)\n",
        "            print('스택 상태 : ', stack)\n",
        "        else:\n",
        "            print('입력이 잘못됨')\n",
        "        select = input('삽입(I)/추출(E)/확인(V)/종료(X) 중 하나를 선택 ==> ')\n",
        "    print('프로그램 종료!')"
      ],
      "execution_count": null,
      "outputs": [
        {
          "output_type": "stream",
          "text": [
            "스택의 크기를 입력하세요 ==> 5\n",
            "삽입(I)/추출(E)/확인(V)/종료(X) 중 하나를 선택 ==> I\n",
            "입력할 데이터 ==> 커피\n",
            "스택 상태 :  ['커피', None, None, None, None]\n",
            "삽입(I)/추출(E)/확인(V)/종료(X) 중 하나를 선택 ==> I\n",
            "입력할 데이터 ==> 녹차\n",
            "스택 상태 :  ['커피', '녹차', None, None, None]\n",
            "삽입(I)/추출(E)/확인(V)/종료(X) 중 하나를 선택 ==> I\n",
            "입력할 데이터 ==> 꿀물\n",
            "스택 상태 :  ['커피', '녹차', '꿀물', None, None]\n",
            "삽입(I)/추출(E)/확인(V)/종료(X) 중 하나를 선택 ==> V\n",
            "확인된 데이터 ==>  꿀물\n",
            "스택 상태 :  ['커피', '녹차', '꿀물', None, None]\n",
            "삽입(I)/추출(E)/확인(V)/종료(X) 중 하나를 선택 ==> E\n",
            "추출된 데이터 ==>  꿀물\n",
            "스택 상태 :  ['커피', '녹차', None, None, None]\n",
            "삽입(I)/추출(E)/확인(V)/종료(X) 중 하나를 선택 ==> E\n",
            "추출된 데이터 ==>  녹차\n",
            "스택 상태 :  ['커피', None, None, None, None]\n",
            "삽입(I)/추출(E)/확인(V)/종료(X) 중 하나를 선택 ==> E\n",
            "추출된 데이터 ==>  커피\n",
            "스택 상태 :  [None, None, None, None, None]\n",
            "삽입(I)/추출(E)/확인(V)/종료(X) 중 하나를 선택 ==> E\n",
            "스택이 비었습니다.\n",
            "추출된 데이터 ==>  None\n",
            "스택 상태 :  [None, None, None, None, None]\n",
            "삽입(I)/추출(E)/확인(V)/종료(X) 중 하나를 선택 ==> X\n",
            "프로그램 종료!\n"
          ],
          "name": "stdout"
        }
      ]
    },
    {
      "cell_type": "code",
      "metadata": {
        "colab": {
          "base_uri": "https://localhost:8080/"
        },
        "id": "G5oqHRZNPTDt",
        "outputId": "66547888-36fe-4841-fcf6-dc07a4c2498c"
      },
      "source": [
        "import webbrowser\n",
        "import time\n",
        "def isStackFull():\n",
        "    global SIZE, stack, top\n",
        "    if top >= SIZE-1:\n",
        "        return True\n",
        "    else:\n",
        "        return False\n",
        "def isStackEmpty():\n",
        "    global SIZE, stack, top\n",
        "    if top == -1:\n",
        "        return True\n",
        "    else:\n",
        "        return False\n",
        "def push(data):\n",
        "    global SIZE, stack, top\n",
        "    if isStackFull():\n",
        "        print('스택이 꽉 찼습니다.')\n",
        "        return\n",
        "    top += 1\n",
        "    stack[top] = data\n",
        "def pop():\n",
        "    global SIZE, stack, top\n",
        "    if isStackEmpty():\n",
        "        print('스택이 비었습니다.')\n",
        "        return None\n",
        "    data = stack[top]\n",
        "    stack[top] = None\n",
        "    top -= 1\n",
        "    return data\n",
        "def peek():\n",
        "    global SIZE, stack, top\n",
        "    if isStackEmpty():\n",
        "        print('스택이 비었습니다.')\n",
        "        return None\n",
        "    return stack[top]\n",
        "SIZE = 100\n",
        "stack = [None for _ in range(SIZE)]\n",
        "top = -1\n",
        "if __name__ == '__main__':\n",
        "    urls = ['naver.com', 'daum.net', 'nate.com']\n",
        "    for url in urls:\n",
        "        push(url)\n",
        "        webbrowser.open('http://' + url)\n",
        "        print(url, end = ' --> ')\n",
        "        time.sleep(1)\n",
        "    print('방문 종료')\n",
        "    time.sleep(5)\n",
        "    while True:\n",
        "        url = pop()\n",
        "        if url == None:\n",
        "            break\n",
        "        webbrowser.open('http://' + url)\n",
        "        print(url, end = ' --> ')\n",
        "        time.sleep(1)\n",
        "    print('방문 종료')"
      ],
      "execution_count": null,
      "outputs": [
        {
          "output_type": "stream",
          "text": [
            "naver.com --> daum.net --> nate.com --> 방문 종료\n",
            "nate.com --> daum.net --> naver.com --> 스택이 비었습니다.\n",
            "방문 종료\n"
          ],
          "name": "stdout"
        }
      ]
    },
    {
      "cell_type": "code",
      "metadata": {
        "colab": {
          "base_uri": "https://localhost:8080/"
        },
        "id": "hkPhJjDoQc8g",
        "outputId": "81f3a755-8e18-4dc9-a445-3117a299a35e"
      },
      "source": [
        "def isStackFull():\n",
        "    global SIZE, stack, top\n",
        "    if top >= SIZE-1:\n",
        "        return True\n",
        "    else:\n",
        "        return False\n",
        "def isStackEmpty():\n",
        "    global SIZE, stack, top\n",
        "    if top == -1:\n",
        "        return True\n",
        "    else:\n",
        "        return False\n",
        "def push(data):\n",
        "    global SIZE, stack, top\n",
        "    if isStackFull():\n",
        "        print('스택이 꽉 찼습니다.')\n",
        "        return\n",
        "    top += 1\n",
        "    stack[top] = data\n",
        "def pop():\n",
        "    global SIZE, stack, top\n",
        "    if isStackEmpty():\n",
        "        print('스택이 비었습니다.')\n",
        "        return None\n",
        "    data = stack[top]\n",
        "    stack[top] = None\n",
        "    top -= 1\n",
        "    return data\n",
        "def peek():\n",
        "    global SIZE, stack, top\n",
        "    if isStackEmpty():\n",
        "        print('스택이 비었습니다.')\n",
        "        return None\n",
        "    return stack[top]\n",
        "def checkBracket(expr):\n",
        "    for ch in expr:\n",
        "        if ch in '([{<':\n",
        "            push(ch)\n",
        "        elif ch in ')]}>':\n",
        "            out = pop()\n",
        "            if ch == ')' and out == '(':\n",
        "                pass\n",
        "            elif ch == ']' and out == '[':\n",
        "                pass\n",
        "            elif ch == '}' and out == '{':\n",
        "                pass\n",
        "            elif ch == '>' and out == '<':\n",
        "                pass\n",
        "            else:\n",
        "                return False\n",
        "        else:\n",
        "            pass\n",
        "    if isStackEmpty():\n",
        "        return True\n",
        "    else:\n",
        "        return False\n",
        "SIZE = 100\n",
        "stack = [None for _ in range(SIZE)]\n",
        "top = -1\n",
        "if __name__ == '__main__':\n",
        "    exprAry = ['(A+B)', ')A+B(', '((A+B)-C', '(A+B]', '(<A+{B-C}/[C*D]>)']\n",
        "    for expr in exprAry:\n",
        "        top = -1\n",
        "        print(expr, ' ==> ', checkBracket(expr))"
      ],
      "execution_count": null,
      "outputs": [
        {
          "output_type": "stream",
          "text": [
            "(A+B)  ==>  True\n",
            "스택이 비었습니다.\n",
            ")A+B(  ==>  False\n",
            "((A+B)-C  ==>  False\n",
            "(A+B]  ==>  False\n",
            "(<A+{B-C}/[C*D]>)  ==>  True\n"
          ],
          "name": "stdout"
        }
      ]
    }
  ]
}