{
  "nbformat": 4,
  "nbformat_minor": 0,
  "metadata": {
    "colab": {
      "name": "Queue.ipynb",
      "provenance": [],
      "collapsed_sections": []
    },
    "kernelspec": {
      "name": "python3",
      "display_name": "Python 3"
    },
    "language_info": {
      "name": "python"
    }
  },
  "cells": [
    {
      "cell_type": "code",
      "metadata": {
        "id": "ExYt7IQZPV-V",
        "colab": {
          "base_uri": "https://localhost:8080/"
        },
        "outputId": "0211a658-9319-4898-d37a-b677ebf6b23f"
      },
      "source": [
        "queue = [None, None, None, None, None]\n",
        "front = rear = -1\n",
        "rear += 1\n",
        "queue[rear] = '화사'\n",
        "rear += 1\n",
        "queue[rear] = '솔라'\n",
        "rear += 1\n",
        "queue[rear] = '문별'\n",
        "print('----- 큐 상태 -----')\n",
        "print('[출구] <-- ', end=' ')\n",
        "for i in range(0, len(queue), 1):\n",
        "    print(queue[i], end=' ')\n",
        "print('<-- [입구]')"
      ],
      "execution_count": null,
      "outputs": [
        {
          "output_type": "stream",
          "text": [
            "----- 큐 상태 -----\n",
            "[출구] <--  화사 솔라 문별 None None <-- [입구]\n"
          ],
          "name": "stdout"
        }
      ]
    },
    {
      "cell_type": "code",
      "metadata": {
        "colab": {
          "base_uri": "https://localhost:8080/"
        },
        "id": "FUse_oYbUtvz",
        "outputId": "6f00b0af-1a93-4667-a170-df9072cc5865"
      },
      "source": [
        "queue = ['화사', '솔라', '문별', None, None]\n",
        "front = -1\n",
        "rear = 2\n",
        "print('----- 큐 상태 -----')\n",
        "print('[출구] <-- ', end = ' ')\n",
        "for i in range(0, len(queue), 1):\n",
        "    print(queue[i], end = ' ')\n",
        "print('<-- [입구]')\n",
        "print('-------------------')\n",
        "front += 1\n",
        "data = queue[front]\n",
        "queue[front] = None\n",
        "print('deQueue --> ', data)\n",
        "front += 1\n",
        "data = queue[front]\n",
        "queue[front] = None\n",
        "print('deQueue --> ', data)\n",
        "front += 1\n",
        "data = queue[front]\n",
        "queue[front] = None\n",
        "print('deQueue --> ', data)\n",
        "print('-------------------')\n",
        "print('----- 큐 상태 -----')\n",
        "print('[출구] <-- ', end = ' ')\n",
        "for i in range(0, len(queue), 1):\n",
        "    print(queue[i], end = ' ')\n",
        "print('<-- [입구]')"
      ],
      "execution_count": null,
      "outputs": [
        {
          "output_type": "stream",
          "text": [
            "----- 큐 상태 -----\n",
            "[출구] <--  화사 솔라 문별 None None <-- [입구]\n",
            "-------------------\n",
            "deQueue -->  화사\n",
            "deQueue -->  솔라\n",
            "deQueue -->  문별\n",
            "-------------------\n",
            "----- 큐 상태 -----\n",
            "[출구] <--  None None None None None <-- [입구]\n"
          ],
          "name": "stdout"
        }
      ]
    },
    {
      "cell_type": "code",
      "metadata": {
        "colab": {
          "base_uri": "https://localhost:8080/"
        },
        "id": "GfI2dyrOVqnG",
        "outputId": "8575591c-3d45-4613-cc80-4866dfd0631b"
      },
      "source": [
        "def isQueueFull():\n",
        "    global SIZE, queue, front, rear\n",
        "    if rear == SIZE-1:\n",
        "        return True\n",
        "    else:\n",
        "        return False\n",
        "SIZE = 5\n",
        "queue = ['화사', '솔라', '문별', '휘인', '선미']\n",
        "front = -1\n",
        "rear = 4\n",
        "print('큐가 꽉 찼는지 여부 ==> ', isQueueFull())"
      ],
      "execution_count": null,
      "outputs": [
        {
          "output_type": "stream",
          "text": [
            "큐가 꽉 찼는지 여부 ==>  True\n"
          ],
          "name": "stdout"
        }
      ]
    },
    {
      "cell_type": "code",
      "metadata": {
        "colab": {
          "base_uri": "https://localhost:8080/"
        },
        "id": "oAv519GWV8oA",
        "outputId": "3b085259-c771-47df-c271-9ec40df748d6"
      },
      "source": [
        "def isQueueFull():\n",
        "    global SIZE, queue, front, rear\n",
        "    if rear == SIZE-1:\n",
        "        return True\n",
        "    else:\n",
        "        return False\n",
        "def enQueue(data):\n",
        "    global SIZE, queue, front, rear\n",
        "    if isQueueFull():\n",
        "        print('큐가 꽉 찼습니다.')\n",
        "        return\n",
        "    rear += 1\n",
        "    queue[rear] = data\n",
        "SIZE = 5\n",
        "queue = ['화사', '솔라', '문별', '휘인', None]\n",
        "front = -1\n",
        "rear = 3\n",
        "print(queue)\n",
        "enQueue('선미')\n",
        "print(queue)\n",
        "enQueue('재남')"
      ],
      "execution_count": null,
      "outputs": [
        {
          "output_type": "stream",
          "text": [
            "['화사', '솔라', '문별', '휘인', None]\n",
            "['화사', '솔라', '문별', '휘인', '선미']\n",
            "큐가 꽉 찼습니다.\n"
          ],
          "name": "stdout"
        }
      ]
    },
    {
      "cell_type": "code",
      "metadata": {
        "colab": {
          "base_uri": "https://localhost:8080/"
        },
        "id": "1Gm-C5aJWXlY",
        "outputId": "88dd17ba-57d7-4ac2-db9f-c5e2dbeef53c"
      },
      "source": [
        "def isQueueEmpty():\n",
        "    global SIZE, queue, front, rear\n",
        "    if front == rear:\n",
        "        return True\n",
        "    else:\n",
        "        return False\n",
        "SIZE = 5\n",
        "queue = [None for _ in range(SIZE)]\n",
        "front = rear = -1\n",
        "print('큐가 비었는지 여부 ==> ', isQueueEmpty())"
      ],
      "execution_count": null,
      "outputs": [
        {
          "output_type": "stream",
          "text": [
            "큐가 비었는지 여부 ==>  True\n"
          ],
          "name": "stdout"
        }
      ]
    },
    {
      "cell_type": "code",
      "metadata": {
        "colab": {
          "base_uri": "https://localhost:8080/"
        },
        "id": "vi7PTHmcWrD3",
        "outputId": "36d9d87c-00bd-4f3f-fceb-f42deeda25d0"
      },
      "source": [
        "def isQueueEmpty():\n",
        "    global SIZE, queue, front, rear\n",
        "    if front == rear:\n",
        "        return True\n",
        "    else:\n",
        "        return False\n",
        "def deQueue():\n",
        "    global SIZE, queue, front, rear\n",
        "    if isQueueEmpty():\n",
        "        print('큐가 비었습니다.')\n",
        "        return None\n",
        "    front += 1\n",
        "    data = queue[front]\n",
        "    queue[front] = None\n",
        "    return data\n",
        "SIZE = 5\n",
        "queue = ['화사', None, None, None, None]\n",
        "front = -1\n",
        "rear = 0\n",
        "print(queue)\n",
        "retData = deQueue()\n",
        "print('추출한 데이터 --> ', retData)\n",
        "print(queue)\n",
        "retData = deQueue()"
      ],
      "execution_count": null,
      "outputs": [
        {
          "output_type": "stream",
          "text": [
            "['화사', None, None, None, None]\n",
            "추출한 데이터 -->  화사\n",
            "[None, None, None, None, None]\n",
            "큐가 비었습니다.\n"
          ],
          "name": "stdout"
        }
      ]
    },
    {
      "cell_type": "code",
      "metadata": {
        "colab": {
          "base_uri": "https://localhost:8080/"
        },
        "id": "nsigcLKbXFhH",
        "outputId": "89dd0a43-0488-435e-acd7-f8c09b123544"
      },
      "source": [
        "def isQueueEmpty():\n",
        "    global SIZE, queue, front, rear\n",
        "    if front == rear:\n",
        "        return True\n",
        "    else:\n",
        "        return False\n",
        "def peek():\n",
        "    global SIZE, queue, front, rear\n",
        "    if isQueueEmpty():\n",
        "        print('큐가 비었습니다.')\n",
        "        return None\n",
        "    return queue[front+1]\n",
        "SIZE = 5\n",
        "queue = ['화사', '솔라', '문별', None, None]\n",
        "front = -1\n",
        "rear = 2\n",
        "print(queue)\n",
        "retData = peek()\n",
        "print('다음에 추출될 데이터 확인 --> ', retData)\n",
        "print(queue)"
      ],
      "execution_count": null,
      "outputs": [
        {
          "output_type": "stream",
          "text": [
            "['화사', '솔라', '문별', None, None]\n",
            "다음에 추출될 데이터 확인 -->  화사\n",
            "['화사', '솔라', '문별', None, None]\n"
          ],
          "name": "stdout"
        }
      ]
    },
    {
      "cell_type": "code",
      "metadata": {
        "colab": {
          "base_uri": "https://localhost:8080/"
        },
        "id": "fEBJpFrEXZ6X",
        "outputId": "cb35b69c-2611-49f1-ae72-43a7d71075ff"
      },
      "source": [
        "def isQueueFull():\n",
        "    global SIZE, queue, front, rear\n",
        "    if rear == SIZE-1:\n",
        "        return True\n",
        "    else:\n",
        "        return False\n",
        "def isQueueEmpty():\n",
        "    global SIZE, queue, front, rear\n",
        "    if front == rear:\n",
        "        return True\n",
        "    else:\n",
        "        return False\n",
        "def enQueue(data):\n",
        "    global SIZE, queue, front, rear\n",
        "    if isQueueFull():\n",
        "        print('큐가 꽉 찼습니다.')\n",
        "        return\n",
        "    rear += 1\n",
        "    queue[rear] = data\n",
        "def deQueue():\n",
        "    global SIZE, queue, front, rear\n",
        "    if isQueueEmpty():\n",
        "        print('큐가 비었습니다.')\n",
        "        return None\n",
        "    front += 1\n",
        "    data = queue[front]\n",
        "    queue[front] = None\n",
        "    return data\n",
        "def peek():\n",
        "    global SIZE, queue, front, rear\n",
        "    if isQueueEmpty():\n",
        "        print('큐가 비었습니다.')\n",
        "        return None\n",
        "    return queue[front+1]\n",
        "SIZE = int(input('큐의 크기를 입력하세요 ==> '))\n",
        "queue = [None for _ in range(SIZE)]\n",
        "front = rear = -1\n",
        "if __name__ == '__main__':\n",
        "    select = input('삽입(I)/추출(E)/확인(V)/종료(X) 중 하나를 선택 ==> ')\n",
        "    while select != 'X' and select != 'x':\n",
        "        if select == 'I' or select == 'i':\n",
        "            data = input('입력할 데이터 ==> ')\n",
        "            enQueue(data)\n",
        "            print('큐 상태 : ', queue)\n",
        "        elif select == 'E' or select == 'e':\n",
        "            data = deQueue()\n",
        "            print('추출된 데이터 ==> ', data)\n",
        "            print('큐 상태 : ', queue)\n",
        "        elif select == 'V' or select == 'v':\n",
        "            data = peek()\n",
        "            print('확인된 데이터 ==> ', data)\n",
        "            print('큐 상태 : ', queue)\n",
        "        else:\n",
        "            print('입력이 잘못됨')\n",
        "        select = input('삽입(I)/추출(E)/확인(V)/종료(X) 중 하나를 선택 ==> ')\n",
        "    print('프로그램 종료!')"
      ],
      "execution_count": null,
      "outputs": [
        {
          "output_type": "stream",
          "text": [
            "큐의 크기를 입력하세요 ==> 5\n",
            "삽입(I)/추출(E)/확인(V)/종료(X) 중 하나를 선택 ==> I\n",
            "입력할 데이터 ==> 화사\n",
            "큐 상태 :  ['화사', None, None, None, None]\n",
            "삽입(I)/추출(E)/확인(V)/종료(X) 중 하나를 선택 ==> I\n",
            "입력할 데이터 ==> 솔라\n",
            "큐 상태 :  ['화사', '솔라', None, None, None]\n",
            "삽입(I)/추출(E)/확인(V)/종료(X) 중 하나를 선택 ==> I\n",
            "입력할 데이터 ==> 문별\n",
            "큐 상태 :  ['화사', '솔라', '문별', None, None]\n",
            "삽입(I)/추출(E)/확인(V)/종료(X) 중 하나를 선택 ==> E\n",
            "추출된 데이터 ==>  화사\n",
            "큐 상태 :  [None, '솔라', '문별', None, None]\n",
            "삽입(I)/추출(E)/확인(V)/종료(X) 중 하나를 선택 ==> E\n",
            "추출된 데이터 ==>  솔라\n",
            "큐 상태 :  [None, None, '문별', None, None]\n",
            "삽입(I)/추출(E)/확인(V)/종료(X) 중 하나를 선택 ==> E\n",
            "추출된 데이터 ==>  문별\n",
            "큐 상태 :  [None, None, None, None, None]\n",
            "삽입(I)/추출(E)/확인(V)/종료(X) 중 하나를 선택 ==> E\n",
            "큐가 비었습니다.\n",
            "추출된 데이터 ==>  None\n",
            "큐 상태 :  [None, None, None, None, None]\n",
            "삽입(I)/추출(E)/확인(V)/종료(X) 중 하나를 선택 ==> X\n",
            "프로그램 종료!\n"
          ],
          "name": "stdout"
        }
      ]
    },
    {
      "cell_type": "code",
      "metadata": {
        "colab": {
          "base_uri": "https://localhost:8080/"
        },
        "id": "vWiOo7mXYwmj",
        "outputId": "c46b1c34-3a18-4980-e710-fd1868decce6"
      },
      "source": [
        "def isQueueFull():\n",
        "    global SIZE, queue, front, rear\n",
        "    if rear != SIZE-1:\n",
        "        return False\n",
        "    elif rear == SIZE -1 and front == -1:\n",
        "        return True\n",
        "    else:\n",
        "        for i in range(front+1, SIZE):\n",
        "            queue[i-1] = queue[i]\n",
        "            queue[i] = None\n",
        "        front -= 1\n",
        "        rear -= 1\n",
        "        return False\n",
        "SIZE = 5\n",
        "queue = [None, None, '문별', '휘인', '선미']\n",
        "front = 1\n",
        "rear = 4\n",
        "print('큐가 꽉 찼는지 여부 ==> ', isQueueFull())\n",
        "print('큐 상태 ==> ', queue)"
      ],
      "execution_count": null,
      "outputs": [
        {
          "output_type": "stream",
          "text": [
            "큐가 꽉 찼는지 여부 ==>  False\n",
            "큐 상태 ==>  [None, '문별', '휘인', '선미', None]\n"
          ],
          "name": "stdout"
        }
      ]
    },
    {
      "cell_type": "code",
      "metadata": {
        "colab": {
          "base_uri": "https://localhost:8080/"
        },
        "id": "E5aznGtAZXnU",
        "outputId": "0aefcf7b-9d7b-49fa-e522-19fd2a869313"
      },
      "source": [
        "def isQueueFull():\n",
        "    global SIZE, queue, front, rear\n",
        "    if rear != SIZE-1:\n",
        "        return False\n",
        "    elif rear == SIZE -1 and front == -1:\n",
        "        return True\n",
        "    else:\n",
        "        for i in range(front+1, SIZE):\n",
        "            queue[i-1] = queue[i]\n",
        "            queue[i] = None\n",
        "        front -= 1\n",
        "        rear -= 1\n",
        "        return False\n",
        "def isQueueEmpty():\n",
        "    global SIZE, queue, front, rear\n",
        "    if front == rear:\n",
        "        return True\n",
        "    else:\n",
        "        return False\n",
        "def enQueue(data):\n",
        "    global SIZE, queue, front, rear\n",
        "    if isQueueFull():\n",
        "        print('큐가 꽉 찼습니다.')\n",
        "        return\n",
        "    rear += 1\n",
        "    queue[rear] = data\n",
        "def deQueue():\n",
        "    global SIZE, queue, front, rear\n",
        "    if isQueueEmpty():\n",
        "        print('큐가 비었습니다.')\n",
        "        return None\n",
        "    front += 1\n",
        "    data = queue[front]\n",
        "    queue[front] = None\n",
        "    return data\n",
        "def peek():\n",
        "    global SIZE, queue, front, rear\n",
        "    if isQueueEmpty():\n",
        "        print('큐가 비었습니다.')\n",
        "        return None\n",
        "    return queue[front+1]\n",
        "SIZE = int(input('큐의 크기를 입력하세요 ==> '))\n",
        "queue = [None for _ in range(SIZE)]\n",
        "front = rear = -1\n",
        "if __name__ == '__main__':\n",
        "    select = input('삽입(I)/추출(E)/확인(V)/종료(X) 중 하나 선택 ==> ')\n",
        "    while select != 'X' and select != 'x':\n",
        "        if select=='I' or select =='i':\n",
        "            data = input('입력할 데이터 ==> ')\n",
        "            enQueue(data)\n",
        "            print('큐 상태 : ', queue)\n",
        "        elif select=='E' or select =='e':\n",
        "            data = deQueue()\n",
        "            print('추출된 데이터 ==> ', data)\n",
        "            print('큐 상태 : ', queue)\n",
        "        elif select=='V' or select =='v':\n",
        "            data = peek()\n",
        "            print('확인된 데이터 ==> ', data)\n",
        "            print('큐 상태 : ', queue)\n",
        "        else:\n",
        "            print('입력이 잘못됨')\n",
        "        select = input('삽입(I)/추출(E)/확인(V)/종료(X) 중 하나 선택 ==> ')\n",
        "    print('프로그램 종료!')"
      ],
      "execution_count": null,
      "outputs": [
        {
          "output_type": "stream",
          "text": [
            "큐의 크기를 입력하세요 ==> 5\n",
            "삽입(I)/추출(E)/확인(V)/종료(X) 중 하나 선택 ==> I\n",
            "입력할 데이터 ==> 화사\n",
            "큐 상태 :  ['화사', None, None, None, None]\n",
            "삽입(I)/추출(E)/확인(V)/종료(X) 중 하나 선택 ==> I\n",
            "입력할 데이터 ==> 솔라\n",
            "큐 상태 :  ['화사', '솔라', None, None, None]\n",
            "삽입(I)/추출(E)/확인(V)/종료(X) 중 하나 선택 ==> I\n",
            "입력할 데이터 ==> 문별\n",
            "큐 상태 :  ['화사', '솔라', '문별', None, None]\n",
            "삽입(I)/추출(E)/확인(V)/종료(X) 중 하나 선택 ==> I\n",
            "입력할 데이터 ==> 휘인\n",
            "큐 상태 :  ['화사', '솔라', '문별', '휘인', None]\n",
            "삽입(I)/추출(E)/확인(V)/종료(X) 중 하나 선택 ==> I\n",
            "입력할 데이터 ==> 선미\n",
            "큐 상태 :  ['화사', '솔라', '문별', '휘인', '선미']\n",
            "삽입(I)/추출(E)/확인(V)/종료(X) 중 하나 선택 ==> E\n",
            "추출된 데이터 ==>  화사\n",
            "큐 상태 :  [None, '솔라', '문별', '휘인', '선미']\n",
            "삽입(I)/추출(E)/확인(V)/종료(X) 중 하나 선택 ==> E\n",
            "추출된 데이터 ==>  솔라\n",
            "큐 상태 :  [None, None, '문별', '휘인', '선미']\n",
            "삽입(I)/추출(E)/확인(V)/종료(X) 중 하나 선택 ==> I\n",
            "입력할 데이터 ==> 재남\n",
            "큐 상태 :  [None, '문별', '휘인', '선미', '재남']\n",
            "삽입(I)/추출(E)/확인(V)/종료(X) 중 하나 선택 ==> V\n",
            "확인된 데이터 ==>  문별\n",
            "큐 상태 :  [None, '문별', '휘인', '선미', '재남']\n",
            "삽입(I)/추출(E)/확인(V)/종료(X) 중 하나 선택 ==> X\n",
            "프로그램 종료!\n"
          ],
          "name": "stdout"
        }
      ]
    },
    {
      "cell_type": "code",
      "metadata": {
        "colab": {
          "base_uri": "https://localhost:8080/"
        },
        "id": "CpMP5iKearNU",
        "outputId": "11473035-d203-4fb1-d64f-b46479aebd63"
      },
      "source": [
        "def isQueueFull():\n",
        "    global SIZE, queue, front, rear\n",
        "    if (rear + 1) % SIZE == front:\n",
        "        return True\n",
        "    else:\n",
        "        return False\n",
        "def isQueueEmpty():\n",
        "    global SIZE, queue, front, rear\n",
        "    if front == rear:\n",
        "        return True\n",
        "    else:\n",
        "        return False\n",
        "def enQueue(data):\n",
        "    global SIZE, queue, front, rear\n",
        "    if isQueueFull():\n",
        "        print('큐가 꽉 찼습니다.')\n",
        "        return\n",
        "    rear = (rear + 1) % SIZE\n",
        "    queue[rear] = data\n",
        "def deQueue():\n",
        "    global SIZE, queue, front, rear\n",
        "    if isQueueEmpty():\n",
        "        print('큐가 비었습니다.')\n",
        "        return None\n",
        "    front = (front + 1) % SIZE\n",
        "    data = queue[front]\n",
        "    queue[front] = None\n",
        "    return data\n",
        "def peek():\n",
        "    global SIZE, queue, front, rear\n",
        "    if isQueueEmpty():\n",
        "        print('큐가 비었습니다.')\n",
        "        return None\n",
        "    return queue[(front + 1) % SIZE]\n",
        "SIZE = int(input('큐의 크기를 입력하세요 ==> '))\n",
        "queue = [None for _ in range(SIZE)]\n",
        "front = rear = 0\n",
        "if __name__ == '__main__':\n",
        "    select = input('삽입(I)/추출(E)/확인(V)/종료(X) 중 하나를 선택 ==> ')\n",
        "    while select != 'X' and select != 'x':\n",
        "        if select == 'I' or select == 'i':\n",
        "            data = input('입력할 데이터 ==> ')\n",
        "            enQueue(data)\n",
        "            print('큐 상태 : ', queue)\n",
        "            print('front : ', front, ', rear : ', rear)\n",
        "        elif select == 'E' or select == 'e':\n",
        "            data = deQueue()\n",
        "            print('추출된 데이터 ==> ', data)\n",
        "            print('큐 상태 : ', queue)\n",
        "            print('front : ', front, ', rear : ', rear)\n",
        "        elif select == 'V' or select == 'v':\n",
        "            data = peek()\n",
        "            print('확인된 데이터 ==> ', data)\n",
        "            print('큐 상태 : ', queue)\n",
        "            print('front : ', front, ', rear : ', rear)\n",
        "        else:\n",
        "            print('입력이 잘못됨')\n",
        "        select = input('삽입(I)/추출(E)/확인(V)/종료(X) 중 하나를 선택 ==> ')\n",
        "    print('프로그램 종료!')"
      ],
      "execution_count": null,
      "outputs": [
        {
          "output_type": "stream",
          "text": [
            "큐의 크기를 입력하세요 ==> 5\n",
            "삽입(I)/추출(E)/확인(V)/종료(X) 중 하나를 선택 ==> I\n",
            "입력할 데이터 ==> 화사\n",
            "큐 상태 :  [None, '화사', None, None, None]\n",
            "front :  0 , rear :  1\n",
            "삽입(I)/추출(E)/확인(V)/종료(X) 중 하나를 선택 ==> I\n",
            "입력할 데이터 ==> 솔라\n",
            "큐 상태 :  [None, '화사', '솔라', None, None]\n",
            "front :  0 , rear :  2\n",
            "삽입(I)/추출(E)/확인(V)/종료(X) 중 하나를 선택 ==> I\n",
            "입력할 데이터 ==> 문별\n",
            "큐 상태 :  [None, '화사', '솔라', '문별', None]\n",
            "front :  0 , rear :  3\n",
            "삽입(I)/추출(E)/확인(V)/종료(X) 중 하나를 선택 ==> I\n",
            "입력할 데이터 ==> 휘인\n",
            "큐 상태 :  [None, '화사', '솔라', '문별', '휘인']\n",
            "front :  0 , rear :  4\n",
            "삽입(I)/추출(E)/확인(V)/종료(X) 중 하나를 선택 ==> I\n",
            "입력할 데이터 ==> 재남\n",
            "큐가 꽉 찼습니다.\n",
            "큐 상태 :  [None, '화사', '솔라', '문별', '휘인']\n",
            "front :  0 , rear :  4\n",
            "삽입(I)/추출(E)/확인(V)/종료(X) 중 하나를 선택 ==> E\n",
            "추출된 데이터 ==>  화사\n",
            "큐 상태 :  [None, None, '솔라', '문별', '휘인']\n",
            "front :  1 , rear :  4\n",
            "삽입(I)/추출(E)/확인(V)/종료(X) 중 하나를 선택 ==> I\n",
            "입력할 데이터 ==> 재남\n",
            "큐 상태 :  ['재남', None, '솔라', '문별', '휘인']\n",
            "front :  1 , rear :  0\n",
            "삽입(I)/추출(E)/확인(V)/종료(X) 중 하나를 선택 ==> V\n",
            "확인된 데이터 ==>  솔라\n",
            "큐 상태 :  ['재남', None, '솔라', '문별', '휘인']\n",
            "front :  1 , rear :  0\n",
            "삽입(I)/추출(E)/확인(V)/종료(X) 중 하나를 선택 ==> E\n",
            "추출된 데이터 ==>  솔라\n",
            "큐 상태 :  ['재남', None, None, '문별', '휘인']\n",
            "front :  2 , rear :  0\n",
            "삽입(I)/추출(E)/확인(V)/종료(X) 중 하나를 선택 ==> X\n",
            "프로그램 종료!\n"
          ],
          "name": "stdout"
        }
      ]
    }
  ]
}