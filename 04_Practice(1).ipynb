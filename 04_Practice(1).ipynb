{
  "nbformat": 4,
  "nbformat_minor": 0,
  "metadata": {
    "colab": {
      "name": "Practice(1).ipynb",
      "provenance": [],
      "collapsed_sections": []
    },
    "kernelspec": {
      "name": "python3",
      "display_name": "Python 3"
    },
    "language_info": {
      "name": "python"
    }
  },
  "cells": [
    {
      "cell_type": "code",
      "metadata": {
        "id": "I_LE1rntgPrC"
      },
      "source": [
        "ARRAY_LENGTH = 5  # 배열의 행과 열 크기(고정)"
      ],
      "execution_count": 1,
      "outputs": []
    },
    {
      "cell_type": "code",
      "metadata": {
        "id": "BrzZGSTygThs"
      },
      "source": [
        "def replaceData(numData): # numData\t2차원 정수 배열\n",
        "    retData = [] # 조건에 따라서 전처리된 2차원 배열\n",
        "    ###########   여기부터 코딩 (1) ---------------->\n",
        "    retData = numData[:]\n",
        "    for i in range(ARRAY_LENGTH):\n",
        "        for k in range(ARRAY_LENGTH):\n",
        "            if retData[i][k] < 0:\n",
        "                retData[i][k] = 0\n",
        "            if retData[i][k] > 100:\n",
        "                retData[i][k] = retData[i][k] % 100\n",
        "    ###########   <-------------- 여기까지 코딩 (1)\n",
        "    return retData"
      ],
      "execution_count": 2,
      "outputs": []
    },
    {
      "cell_type": "code",
      "metadata": {
        "id": "rroXQEI8gXRd"
      },
      "source": [
        "# 2x2 크기의 배열의 최대합을 구한다.\n",
        "def getMaxSum(numData): # 요구 사항에 맞춰 처리된 2차원 정수 배열\n",
        "    maxSum = 0 # 최대합\n",
        "    ###########   여기부터 코딩 (2) ---------------->\n",
        "    for i in range(ARRAY_LENGTH-1):\n",
        "        for k in range(ARRAY_LENGTH-1):\n",
        "            sum = numData[i][k] + numData[i][k+1] \\\n",
        "                    + numData[i+1][k] + numData[i+1][k+1]\n",
        "            if maxSum < sum:\n",
        "                maxSum = sum\n",
        "    ###########   <-------------- 여기까지 코딩 (2)\n",
        "    return maxSum"
      ],
      "execution_count": 3,
      "outputs": []
    },
    {
      "cell_type": "code",
      "metadata": {
        "id": "p8-5D-FSghXm"
      },
      "source": [
        "## 전역 변수 선언 부분\n",
        "numData = [] # 5x5 배열\n",
        "ARRAY_LENGTH = 5 # 배열의 행과 열 크기(고정)\n",
        "def main():\n",
        "        global numData\n",
        "        loadData() # 2차원 배열 읽어오기\n",
        "        ## 원본 출력\n",
        "        print('------------- 초기 배열 -------------')\n",
        "        printData()\n",
        "        # 1. 데이터 치환 작업\n",
        "        numData = replaceData(numData)\n",
        "        print('------------ 치환후 배열 ------------')\n",
        "        printData()\n",
        "        # 2. 최대 합 구하기.(2x2 크기)\n",
        "        maxSum = getMaxSum(numData)\n",
        "        print('최대 영역의 합: %d' % maxSum)"
      ],
      "execution_count": 4,
      "outputs": []
    },
    {
      "cell_type": "code",
      "metadata": {
        "colab": {
          "base_uri": "https://localhost:8080/"
        },
        "id": "1zvtF45jgjGV",
        "outputId": "7c9217bb-1ee6-43a4-9a45-6354a79fdfe9"
      },
      "source": [
        "## 함수 선언 부분\n",
        "def loadData() : # 데이터 불러오기\n",
        "    global numData\n",
        "    ###########\n",
        "    # 제공 데이터 세트 1 \n",
        "    # 5x5 숫자 배열. \n",
        "    ###########\n",
        "    numData = \\\n",
        "    [\n",
        "        [ 5, 7, -5, 100, 73 ],\n",
        "        [ 35, 23, 4, 190, 33 ],\n",
        "        [ 49, 85, 662, 39, 81 ],\n",
        "        [ 124, -59, 86, 46, 52 ],\n",
        "        [ 27, 7, 8, 33, -56 ] \n",
        "    ]\n",
        "def printData():\n",
        "        for i in range(0, ARRAY_LENGTH):\n",
        "                for k in range(0, ARRAY_LENGTH):\n",
        "                        try :\n",
        "                                print('%5d' % numData[i][k], end='')\n",
        "                        except :\n",
        "                                pass\n",
        "                print()\n",
        "        print('-------------------------------------')\n",
        "## 메인 함수 호출 ##\n",
        "if __name__ == '__main__' :\n",
        "    main()"
      ],
      "execution_count": 5,
      "outputs": [
        {
          "output_type": "stream",
          "text": [
            "------------- 초기 배열 -------------\n",
            "    5    7   -5  100   73\n",
            "   35   23    4  190   33\n",
            "   49   85  662   39   81\n",
            "  124  -59   86   46   52\n",
            "   27    7    8   33  -56\n",
            "-------------------------------------\n",
            "------------ 치환후 배열 ------------\n",
            "    5    7    0  100   73\n",
            "   35   23    4   90   33\n",
            "   49   85   62   39   81\n",
            "   24    0   86   46   52\n",
            "   27    7    8   33    0\n",
            "-------------------------------------\n",
            "최대 영역의 합: 296\n"
          ],
          "name": "stdout"
        }
      ]
    }
  ]
}