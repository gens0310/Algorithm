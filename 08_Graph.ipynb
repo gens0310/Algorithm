{
  "nbformat": 4,
  "nbformat_minor": 0,
  "metadata": {
    "colab": {
      "name": "Graph.ipynb",
      "provenance": [],
      "collapsed_sections": []
    },
    "kernelspec": {
      "name": "python3",
      "display_name": "Python 3"
    },
    "language_info": {
      "name": "python"
    }
  },
  "cells": [
    {
      "cell_type": "code",
      "metadata": {
        "id": "4vKQyJn4PhZG",
        "colab": {
          "base_uri": "https://localhost:8080/"
        },
        "outputId": "6733b2bd-9b16-4128-e47a-f6d840d2cb01"
      },
      "source": [
        "class Graph():\n",
        "    def __init__ (self, size):\n",
        "        self.SIZE = size\n",
        "        self.graph = [[0 for _ in range(size)] for _ in range(size)]\n",
        "G1, G3 = None, None\n",
        "G1 = Graph(4)\n",
        "G1.graph[0][1] = 1; G1.graph[0][2] = 1; G1.graph[0][3] = 1\n",
        "G1.graph[1][0] = 1; G1.graph[1][2] = 1\n",
        "G1.graph[2][0] = 1; G1.graph[2][1] = 1; G1.graph[2][3] = 1\n",
        "G1.graph[3][0] = 1; G1.graph[3][2] = 1\n",
        "print('## G1 무방향 그래프 ##')\n",
        "for row in range(4):\n",
        "    for col in range(4):\n",
        "        print(G1.graph[row][col], end = ' ')\n",
        "    print()\n",
        "G3 = Graph(4)\n",
        "G3.graph[0][1] = 1; G3.graph[0][2] = 1\n",
        "G3.graph[3][0] = 1; G3.graph[3][2] = 1\n",
        "print('## G3 방향 그래프 ##')\n",
        "for row in range(4):\n",
        "    for col in range(4):\n",
        "        print(G3.graph[row][col], end=' ')\n",
        "    print()"
      ],
      "execution_count": 1,
      "outputs": [
        {
          "output_type": "stream",
          "text": [
            "## G1 무방향 그래프 ##\n",
            "0 1 1 1 \n",
            "1 0 1 0 \n",
            "1 1 0 1 \n",
            "1 0 1 0 \n",
            "## G3 방향 그래프 ##\n",
            "0 1 1 0 \n",
            "0 0 0 0 \n",
            "0 0 0 0 \n",
            "1 0 1 0 \n"
          ],
          "name": "stdout"
        }
      ]
    },
    {
      "cell_type": "code",
      "metadata": {
        "colab": {
          "base_uri": "https://localhost:8080/"
        },
        "id": "tgQR0JPyMeG3",
        "outputId": "4aa40b7c-07d3-47a1-afbf-4f832f681114"
      },
      "source": [
        "class Graph():\n",
        "    def __init__ (self, size):\n",
        "        self.SIZE = size\n",
        "        self.graph = [[0 for _ in range(size)] for _ in range(size)]\n",
        "def printGraph(g):\n",
        "    print(' ', end = ' ')\n",
        "    for v in range(g.SIZE):\n",
        "        print(nameAry[v], end = ' ')\n",
        "    print()\n",
        "    for row in range(g.SIZE):\n",
        "        print(nameAry[row], end = ' ')\n",
        "        for col in range(g.SIZE):\n",
        "            print(g.graph[row][col], end = '  ')\n",
        "        print()\n",
        "    print()\n",
        "G1 = None\n",
        "nameAry = ['문별', '솔라', '휘인', '쯔위', '선미', '화사']\n",
        "문별, 솔라, 휘인, 쯔위, 선미, 화사 = 0, 1, 2, 3, 4, 5\n",
        "gSize = 6\n",
        "G1 = Graph(gSize)\n",
        "G1.graph[문별][솔라] = 1; G1.graph[문별][휘인] = 1\n",
        "G1.graph[솔라][문별] = 1; G1.graph[솔라][쯔위] = 1\n",
        "G1.graph[휘인][문별] = 1; G1.graph[휘인][쯔위] = 1\n",
        "G1.graph[쯔위][솔라] = 1; G1.graph[쯔위][휘인] = 1; G1.graph[쯔위][선미] = 1; G1.graph[쯔위][화사] = 1\n",
        "G1.graph[선미][쯔위] = 1; G1.graph[선미][화사] = 1\n",
        "G1.graph[화사][쯔위] = 1; G1.graph[화사][선미] = 1\n",
        "print('## G1 무방향 그래프 ##')\n",
        "printGraph(G1)"
      ],
      "execution_count": 2,
      "outputs": [
        {
          "output_type": "stream",
          "text": [
            "## G1 무방향 그래프 ##\n",
            "  문별 솔라 휘인 쯔위 선미 화사 \n",
            "문별 0  1  1  0  0  0  \n",
            "솔라 1  0  0  1  0  0  \n",
            "휘인 1  0  0  1  0  0  \n",
            "쯔위 0  1  1  0  1  1  \n",
            "선미 0  0  0  1  0  1  \n",
            "화사 0  0  0  1  1  0  \n",
            "\n"
          ],
          "name": "stdout"
        }
      ]
    },
    {
      "cell_type": "code",
      "metadata": {
        "colab": {
          "base_uri": "https://localhost:8080/"
        },
        "id": "CR-VPmG2M6G0",
        "outputId": "5145b772-efa5-4e23-e22d-110dc9ad8fb2"
      },
      "source": [
        "class Graph():\n",
        "    def __init__ (self, size):\n",
        "        self.SIZE = size\n",
        "        self.graph = [[0 for _ in range(size)] for _ in range(size)]\n",
        "G1 = None\n",
        "stack = []\n",
        "visitedAry = []\n",
        "G1 = Graph(4)\n",
        "G1.graph[0][2] = 1; G1.graph[0][3] = 1\n",
        "G1.graph[1][2] = 1\n",
        "G1.graph[2][0] = 1; G1.graph[2][1] = 1; G1.graph[2][3] = 1\n",
        "G1.graph[3][0] = 1; G1.graph[3][2] = 1\n",
        "print('## G1 무방향 그래프 ##')\n",
        "for row in range(4):\n",
        "    for col in range(4):\n",
        "        print(G1.graph[row][col], end = ' ')\n",
        "    print()\n",
        "current = 0\n",
        "stack.append(current)\n",
        "visitedAry.append(current)\n",
        "while len(stack) != 0:\n",
        "    next = None\n",
        "    for vertex in range(4):\n",
        "        if G1.graph[current][vertex] == 1:\n",
        "            if vertex in visitedAry:\n",
        "                pass\n",
        "            else:\n",
        "                next = vertex\n",
        "                break\n",
        "    if next != None:\n",
        "        current = next\n",
        "        stack.append(current)\n",
        "        visitedAry.append(current)\n",
        "    else:\n",
        "        current = stack.pop()\n",
        "print('방문 순서 --> ', end = '')\n",
        "for i in visitedAry:\n",
        "    print(chr(ord('A') + i), end = '   ')"
      ],
      "execution_count": 3,
      "outputs": [
        {
          "output_type": "stream",
          "text": [
            "## G1 무방향 그래프 ##\n",
            "0 0 1 1 \n",
            "0 0 1 0 \n",
            "1 1 0 1 \n",
            "1 0 1 0 \n",
            "방문 순서 --> A   C   B   D   "
          ],
          "name": "stdout"
        }
      ]
    },
    {
      "cell_type": "code",
      "metadata": {
        "id": "Z1sHb9WKNkc2"
      },
      "source": [
        "gSize = 6\n",
        "def findVertex(g, findVtx):\n",
        "    stack = []\n",
        "    visitedAry = []\n",
        "    current = 0\n",
        "    stack.append(current)\n",
        "    visitedAry.append(current)\n",
        "    while len(stack) != 0:\n",
        "        next = None\n",
        "        for vertex in range(gSize):\n",
        "            if g.graph[current][vertex] != 0:\n",
        "                if vertex in visitedAry:\n",
        "                    pass\n",
        "                else:\n",
        "                    next = vertex\n",
        "                    break\n",
        "        if next != None:\n",
        "            current = next\n",
        "            stack.append(current)\n",
        "            visitedAry.append(current)\n",
        "        else:\n",
        "            current = stack.pop()\n",
        "    if findVtx in visitedAry:\n",
        "        return True\n",
        "    else:\n",
        "        return False"
      ],
      "execution_count": 4,
      "outputs": []
    },
    {
      "cell_type": "code",
      "metadata": {
        "colab": {
          "base_uri": "https://localhost:8080/"
        },
        "id": "y0LLzGCKOEmQ",
        "outputId": "a6dd100e-8557-4cc0-81bd-6e7bcd9dbf49"
      },
      "source": [
        "class Graph():\n",
        "    def __init__ (self, size):\n",
        "        self.SIZE = size\n",
        "        self.graph = [[0 for _ in range(size)] for _ in range(size)]\n",
        "def printGraph(g):\n",
        "    print(' ', end = ' ')\n",
        "    for v in range(g.SIZE):\n",
        "        print(nameAry[v], end = ' ')\n",
        "    print()\n",
        "    for row in range(g.SIZE):\n",
        "        print(nameAry[row], end = ' ')\n",
        "        for col in range(g.SIZE):\n",
        "            print('%2d' % g.graph[row][col], end = ' ')\n",
        "        print()\n",
        "    print()\n",
        "def findVertex(g, findVtx):\n",
        "    stack = []\n",
        "    visitedAry = []\n",
        "    current = 0\n",
        "    stack.append(current)\n",
        "    visitedAry.append(current)\n",
        "    while len(stack) != 0:\n",
        "        next = None\n",
        "        for vertex in range(gSize):\n",
        "            if g.graph[current][vertex] != 0:\n",
        "                if vertex in visitedAry:\n",
        "                    pass\n",
        "                else:\n",
        "                    next = vertex\n",
        "                    break\n",
        "        if next != None:\n",
        "            current = next\n",
        "            stack.append(current)\n",
        "            visitedAry.append(current)\n",
        "        else:\n",
        "            current = stack.pop()\n",
        "    if findVtx in visitedAry:\n",
        "        return True\n",
        "    else:\n",
        "        return False\n",
        "G1 = None\n",
        "nameAry = ['춘천', '서울', '속초', '대전', '광주', '부산']\n",
        "춘천, 서울, 속초, 대전, 광주, 부산 = 0, 1, 2, 3, 4, 5\n",
        "gSize = 6\n",
        "G1 = Graph(gSize)\n",
        "G1.graph[춘천][서울] = 10; G1.graph[춘천][속초] = 15\n",
        "G1.graph[서울][춘천] = 10; G1.graph[서울][속초] = 40; G1.graph[서울][대전] = 11; G1.graph[서울][광주] = 50\n",
        "G1.graph[속초][춘천] = 15; G1.graph[속초][서울] = 40; G1.graph[속초][대전] = 12\n",
        "G1.graph[대전][서울] = 11; G1.graph[대전][속초] = 12; G1.graph[대전][광주] = 20; G1.graph[대전][부산] = 30\n",
        "G1.graph[광주][서울] = 50; G1.graph[광주][대전] = 20; G1.graph[광주][부산] = 25\n",
        "G1.graph[부산][대전] = 30; G1.graph[부산][광주] = 25\n",
        "print('## 자전거 도로 건설을 위한 전체 연결도 ##')\n",
        "printGraph(G1)\n",
        "edgeAry = []\n",
        "for i in range(gSize):\n",
        "    for k in range(gSize):\n",
        "        if G1.graph[i][k] != 0:\n",
        "            edgeAry.append([G1.graph[i][k], i, k])\n",
        "from operator import itemgetter\n",
        "edgeAry = sorted(edgeAry, key = itemgetter(0), reverse = True)\n",
        "newAry = []\n",
        "for i in range(0, len(edgeAry), 2):\n",
        "    newAry.append(edgeAry[i])\n",
        "index = 0\n",
        "while len(newAry) > gSize-1:\n",
        "    start = newAry[index][1]\n",
        "    end = newAry[index][2]\n",
        "    saveCost = newAry[index][0]\n",
        "    G1.graph[start][end] = 0\n",
        "    G1.graph[end][start] = 0\n",
        "    startYN = findVertex(G1, start)\n",
        "    endYN = findVertex(G1, end)\n",
        "    if startYN and endYN:\n",
        "        del (newAry[index])\n",
        "    else:\n",
        "        G1.graph[start][end] = saveCost\n",
        "        G1.graph[end][start] = saveCost\n",
        "        index += 1\n",
        "print('## 최소 비용의 자전거 도로 연결도 ##')\n",
        "printGraph(G1)"
      ],
      "execution_count": 5,
      "outputs": [
        {
          "output_type": "stream",
          "text": [
            "## 자전거 도로 건설을 위한 전체 연결도 ##\n",
            "  춘천 서울 속초 대전 광주 부산 \n",
            "춘천  0 10 15  0  0  0 \n",
            "서울 10  0 40 11 50  0 \n",
            "속초 15 40  0 12  0  0 \n",
            "대전  0 11 12  0 20 30 \n",
            "광주  0 50  0 20  0 25 \n",
            "부산  0  0  0 30 25  0 \n",
            "\n",
            "## 최소 비용의 자전거 도로 연결도 ##\n",
            "  춘천 서울 속초 대전 광주 부산 \n",
            "춘천  0 10  0  0  0  0 \n",
            "서울 10  0  0 11  0  0 \n",
            "속초  0  0  0 12  0  0 \n",
            "대전  0 11 12  0 20  0 \n",
            "광주  0  0  0 20  0 25 \n",
            "부산  0  0  0  0 25  0 \n",
            "\n"
          ],
          "name": "stdout"
        }
      ]
    }
  ]
}