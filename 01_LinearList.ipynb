{
  "nbformat": 4,
  "nbformat_minor": 0,
  "metadata": {
    "colab": {
      "name": "LinearList.ipynb",
      "provenance": [],
      "collapsed_sections": []
    },
    "kernelspec": {
      "name": "python3",
      "display_name": "Python 3"
    },
    "language_info": {
      "name": "python"
    }
  },
  "cells": [
    {
      "cell_type": "markdown",
      "metadata": {
        "id": "tjMYl2yaXzAW"
      },
      "source": [
        "# 선형 리스트"
      ]
    },
    {
      "cell_type": "code",
      "metadata": {
        "id": "Y2W_20V4PCFa"
      },
      "source": [
        "katalk = []\n",
        "def add_data(friend):\n",
        "    katalk.append(None)\n",
        "    kLen = len(katalk)\n",
        "    katalk[kLen-1] = friend"
      ],
      "execution_count": 1,
      "outputs": []
    },
    {
      "cell_type": "code",
      "metadata": {
        "colab": {
          "base_uri": "https://localhost:8080/"
        },
        "id": "cGaY-K1Uezd8",
        "outputId": "e8bfe212-451a-440a-9eac-c793a38a72d6"
      },
      "source": [
        "add_data('다현')\n",
        "add_data('정연')\n",
        "add_data('쯔위')\n",
        "add_data('사나')\n",
        "add_data('지효')\n",
        "print(katalk)"
      ],
      "execution_count": 2,
      "outputs": [
        {
          "output_type": "stream",
          "text": [
            "['다현', '정연', '쯔위', '사나', '지효']\n"
          ],
          "name": "stdout"
        }
      ]
    },
    {
      "cell_type": "code",
      "metadata": {
        "id": "aQB6uxhBfHZo"
      },
      "source": [
        "katalk = ['다현', '정연', '쯔위', '사나', '지효']\n",
        "def insert_data(position, friend):\n",
        "    katalk.append(None)\n",
        "    kLen = len(katalk)\n",
        "    for i in range(kLen-1, position, -1):\n",
        "        katalk[i] = katalk[i-1]\n",
        "        katalk[i-1] = None\n",
        "    katalk[position] = friend"
      ],
      "execution_count": 3,
      "outputs": []
    },
    {
      "cell_type": "code",
      "metadata": {
        "colab": {
          "base_uri": "https://localhost:8080/"
        },
        "id": "xIix-nAVfPDS",
        "outputId": "cd51a81d-24b8-40a8-8212-2f11fd85e753"
      },
      "source": [
        "insert_data(2, '솔라')\n",
        "print(katalk)\n",
        "insert_data(6, '문별')\n",
        "print(katalk)"
      ],
      "execution_count": 4,
      "outputs": [
        {
          "output_type": "stream",
          "text": [
            "['다현', '정연', '솔라', '쯔위', '사나', '지효']\n",
            "['다현', '정연', '솔라', '쯔위', '사나', '지효', '문별']\n"
          ],
          "name": "stdout"
        }
      ]
    },
    {
      "cell_type": "code",
      "metadata": {
        "id": "glgEJphLg1Vz"
      },
      "source": [
        "katalk = ['다현', '정연', '쯔위', '사나', '지효']\n",
        "def delete_data(position):\n",
        "    kLen = len(katalk)\n",
        "    katalk[position] = None\n",
        "    for i in range(position+1, kLen):\n",
        "        katalk[i-1] = katalk[i]\n",
        "        katalk[i] = None\n",
        "    del(katalk[kLen-1])"
      ],
      "execution_count": 5,
      "outputs": []
    },
    {
      "cell_type": "code",
      "metadata": {
        "colab": {
          "base_uri": "https://localhost:8080/"
        },
        "id": "qNZrg25thTkU",
        "outputId": "d72c9112-ac9a-4e99-ce3a-b39e8782c3eb"
      },
      "source": [
        "delete_data(1)\n",
        "print(katalk)\n",
        "delete_data(3)\n",
        "print(katalk)"
      ],
      "execution_count": 6,
      "outputs": [
        {
          "output_type": "stream",
          "text": [
            "['다현', '쯔위', '사나', '지효']\n",
            "['다현', '쯔위', '사나']\n"
          ],
          "name": "stdout"
        }
      ]
    },
    {
      "cell_type": "code",
      "metadata": {
        "colab": {
          "base_uri": "https://localhost:8080/"
        },
        "id": "V8jTN4NNib0w",
        "outputId": "7564a51d-6db3-4098-da24-7bc0a54bd50a"
      },
      "source": [
        "def add_data(friend):\n",
        "    katalk.append(None)\n",
        "    kLen = len(katalk)\n",
        "    katalk[kLen-1] = friend\n",
        "def insert_data(position, friend):\n",
        "    katalk.append(None)\n",
        "    kLen = len(katalk)\n",
        "    for i in range(kLen-1, position, -1) :\n",
        "        katalk[i] = katalk[i-1]\n",
        "        katalk[i-1] = None\n",
        "    katalk[position] = friend\n",
        "def delete_data(position):\n",
        "    kLen = len(katalk)\n",
        "    katalk[position] = None\n",
        "    for i in range(position+1, kLen):\n",
        "        katalk[i-1] = katalk[i]\n",
        "        katalk[i] = None\n",
        "    del(katalk[kLen-1])\n",
        "katalk = []\n",
        "select = -1\n",
        "if __name__ == '__main__':\n",
        "    while (select != 4):\n",
        "        select = int(input('선택하세요(1: 추가, 2: 삽입, 3: 삭제, 4: 종료)--> '))\n",
        "        if (select == 1):\n",
        "            data = input('추가할 데이터--> ')\n",
        "            add_data(data)\n",
        "            print(katalk)\n",
        "        elif (select == 2):\n",
        "            pos = int(input('삽입할 위치--> '))\n",
        "            data = input('추가할 데이터--> ')\n",
        "            insert_data(pos, data)\n",
        "            print(katalk)\n",
        "        elif (select == 3):\n",
        "            pos = int(input('삭제할 위치--> '))\n",
        "            delete_data(pos)\n",
        "            print(katalk)\n",
        "        elif (select == 4):\n",
        "            print(katalk)\n",
        "            exit\n",
        "        else:\n",
        "            print('1~4 중 하나를 입력하세요.')\n",
        "            continue"
      ],
      "execution_count": 7,
      "outputs": [
        {
          "output_type": "stream",
          "text": [
            "선택하세요(1: 추가, 2: 삽입, 3: 삭제, 4: 종료)--> 1\n",
            "추가할 데이터--> 다현\n",
            "['다현']\n",
            "선택하세요(1: 추가, 2: 삽입, 3: 삭제, 4: 종료)--> 1\n",
            "추가할 데이터--> 정연\n",
            "['다현', '정연']\n",
            "선택하세요(1: 추가, 2: 삽입, 3: 삭제, 4: 종료)--> 1\n",
            "추가할 데이터--> 쯔위\n",
            "['다현', '정연', '쯔위']\n",
            "선택하세요(1: 추가, 2: 삽입, 3: 삭제, 4: 종료)--> 2\n",
            "삽입할 위치--> 1\n",
            "추가할 데이터--> 하나\n",
            "['다현', '하나', '정연', '쯔위']\n",
            "선택하세요(1: 추가, 2: 삽입, 3: 삭제, 4: 종료)--> 2\n",
            "삽입할 위치--> 0\n",
            "추가할 데이터--> 문별\n",
            "['문별', '다현', '하나', '정연', '쯔위']\n",
            "선택하세요(1: 추가, 2: 삽입, 3: 삭제, 4: 종료)--> 3\n",
            "삭제할 위치--> 3\n",
            "['문별', '다현', '하나', '쯔위']\n",
            "선택하세요(1: 추가, 2: 삽입, 3: 삭제, 4: 종료)--> 4\n",
            "['문별', '다현', '하나', '쯔위']\n"
          ],
          "name": "stdout"
        }
      ]
    }
  ]
}