{
  "nbformat": 4,
  "nbformat_minor": 0,
  "metadata": {
    "colab": {
      "name": "CircleLinkedList.ipynb",
      "provenance": [],
      "collapsed_sections": []
    },
    "kernelspec": {
      "name": "python3",
      "display_name": "Python 3"
    },
    "language_info": {
      "name": "python"
    }
  },
  "cells": [
    {
      "cell_type": "markdown",
      "metadata": {
        "id": "aRT-cUl_zOzZ"
      },
      "source": [
        "# 원형 연결 리스트"
      ]
    },
    {
      "cell_type": "code",
      "metadata": {
        "id": "XeV-ypw60JK7"
      },
      "source": [
        "class Node():\n",
        "    def __init__ (self):\n",
        "        self.data = None\n",
        "        self.link = None"
      ],
      "execution_count": 1,
      "outputs": []
    },
    {
      "cell_type": "code",
      "metadata": {
        "id": "2s0UfXvey-_2",
        "colab": {
          "base_uri": "https://localhost:8080/"
        },
        "outputId": "87d068c0-313e-4266-813c-5ca4a6af305d"
      },
      "source": [
        "node1 = Node()\n",
        "node1.data = '다현'\n",
        "node1.link = node1\n",
        "node2 = Node()\n",
        "node2.data = '정연'\n",
        "node1.link = node2\n",
        "node2.link = node1\n",
        "node3 = Node()\n",
        "node3.data = '쯔위'\n",
        "node2.link = node3\n",
        "node3.link = node1\n",
        "node4 = Node()\n",
        "node4.data = '사나'\n",
        "node3.link = node4\n",
        "node4.link = node1\n",
        "node5 = Node()\n",
        "node5.data = '지효'\n",
        "node4.link = node5\n",
        "node5.link = node1\n",
        "current = node1\n",
        "print(current.data, end =' ')\n",
        "while current.link != node1:\n",
        "    current = current.link\n",
        "    print(current.data, end=' ')"
      ],
      "execution_count": 2,
      "outputs": [
        {
          "output_type": "stream",
          "text": [
            "다현 정연 쯔위 사나 지효 "
          ],
          "name": "stdout"
        }
      ]
    },
    {
      "cell_type": "code",
      "metadata": {
        "id": "LeHALJ3CzrKS",
        "colab": {
          "base_uri": "https://localhost:8080/"
        },
        "outputId": "925df138-e71d-45e0-ab42-58fb10e12712"
      },
      "source": [
        "node1 = Node()\n",
        "node1.data = '다현'\n",
        "node1.link = node1\n",
        "node2 = Node()\n",
        "node2.data = '정연'\n",
        "node1.link = node2\n",
        "node2.link = node1\n",
        "node3 = Node()\n",
        "node3.data = '쯔위'\n",
        "node2.link = node3\n",
        "node3.link = node1\n",
        "node4 = Node()\n",
        "node4.data = '사나'\n",
        "node3.link = node4\n",
        "node4.link = node1\n",
        "node5 = Node()\n",
        "node5.data = '지효'\n",
        "node4.link = node5\n",
        "node5.link = node1\n",
        "newNode = Node()\n",
        "newNode.data = '재남'\n",
        "newNode.link = node2.link\n",
        "node2.link = newNode\n",
        "current = node1\n",
        "print(current.data, end = ' ')\n",
        "while current.link != node1:\n",
        "    current = current.link\n",
        "    print(current.data, end = ' ')"
      ],
      "execution_count": 3,
      "outputs": [
        {
          "output_type": "stream",
          "text": [
            "다현 정연 재남 쯔위 사나 지효 "
          ],
          "name": "stdout"
        }
      ]
    },
    {
      "cell_type": "code",
      "metadata": {
        "id": "WUMNUAm_0Npa",
        "colab": {
          "base_uri": "https://localhost:8080/"
        },
        "outputId": "5c800dbe-6078-4d08-ddb1-b761bc75a7eb"
      },
      "source": [
        "node1 = Node()\n",
        "node1.data = '다현'\n",
        "node1.link = node1\n",
        "node2 = Node()\n",
        "node2.data = '정연'\n",
        "node1.link = node2\n",
        "node2.link = node1\n",
        "node3 = Node()\n",
        "node3.data = '쯔위'\n",
        "node2.link = node3\n",
        "node3.link = node1\n",
        "node4 = Node()\n",
        "node4.data = '사나'\n",
        "node3.link = node4\n",
        "node4.link = node1\n",
        "node5 = Node()\n",
        "node5.data = '지효'\n",
        "node4.link = node5\n",
        "node5.link = node1\n",
        "node2.link = node3.link\n",
        "del(node3)\n",
        "current = node1\n",
        "print(current.data, end = ' ')\n",
        "while current.link != node1:\n",
        "    current = current.link\n",
        "    print(current.data, end = ' ')"
      ],
      "execution_count": 4,
      "outputs": [
        {
          "output_type": "stream",
          "text": [
            "다현 정연 사나 지효 "
          ],
          "name": "stdout"
        }
      ]
    },
    {
      "cell_type": "code",
      "metadata": {
        "id": "ICoFNfIM0g57",
        "colab": {
          "base_uri": "https://localhost:8080/"
        },
        "outputId": "2beeddc0-d515-447c-d5a3-cb3b383f5014"
      },
      "source": [
        "class Node():\n",
        "    def __init__ (self):\n",
        "        self.data = None\n",
        "        self.link = None\n",
        "def printNodes(start):\n",
        "    current = start\n",
        "    if current.link == None:\n",
        "        return\n",
        "    print(current.data, end = ' ')\n",
        "    while current.link != start:\n",
        "        current = current.link\n",
        "        print(current.data, end = ' ')\n",
        "    print()\n",
        "memory = []\n",
        "head, current, pre = None, None, None\n",
        "dataArray = ['다현', '정연', '쯔위', '사나', '지효']\n",
        "if __name__ == '__main__':\n",
        "    node = Node()\n",
        "    node.data = dataArray[0]\n",
        "    head = node\n",
        "    node.link = head\n",
        "    memory.append(node)\n",
        "    for data in dataArray[1:]:\n",
        "        pre = node\n",
        "        node = Node()\n",
        "        node.data = data\n",
        "        pre.link = node\n",
        "        node.link = head\n",
        "        memory.append(node)\n",
        "    printNodes(head)"
      ],
      "execution_count": 5,
      "outputs": [
        {
          "output_type": "stream",
          "text": [
            "다현 정연 쯔위 사나 지효 \n"
          ],
          "name": "stdout"
        }
      ]
    },
    {
      "cell_type": "code",
      "metadata": {
        "id": "5pqhQn3q1At5",
        "colab": {
          "base_uri": "https://localhost:8080/"
        },
        "outputId": "e12b72fa-398e-46d2-8ea3-41f751682697"
      },
      "source": [
        "class Node():\n",
        "    def __init__ (self):\n",
        "        self.data = None\n",
        "        self.link = None\n",
        "def printNodes(start):\n",
        "    current = start\n",
        "    if current.link == None:\n",
        "        return\n",
        "    print(current.data, end=' ')\n",
        "    while current.link != start:\n",
        "        current = current.link\n",
        "        print(current.data, end=' ')\n",
        "    print()\n",
        "def insertNode(findData, insertData):\n",
        "    global memory, head, current, pre\n",
        "    if head.data == findData:\n",
        "        node = Node()\n",
        "        node.data = insertData\n",
        "        node.link = head\n",
        "        last = head\n",
        "        while last.link != head:\n",
        "            last = last.link\n",
        "        last.link = node\n",
        "        head = node\n",
        "        return\n",
        "    current = head\n",
        "    while current.link != head:\n",
        "        pre = current\n",
        "        current = current.link\n",
        "        if current.data == findData:\n",
        "            node = Node()\n",
        "            node.data = insertData\n",
        "            node.link = current\n",
        "            pre.link = node\n",
        "            return\n",
        "    node = Node()\n",
        "    node.data = insertData\n",
        "    current.link = node\n",
        "    node.link = head\n",
        "memory = []\n",
        "head, current, pre = None, None, None\n",
        "dataArray = ['다현', '정연', '쯔위', '사나', '지효']\n",
        "if __name__ == '__main__':\n",
        "    node = Node()\n",
        "    node.data = dataArray[0]\n",
        "    head = node\n",
        "    node.link = head\n",
        "    memory.append(node)\n",
        "    for data in dataArray[1:]:\n",
        "        pre = node\n",
        "        node = Node()\n",
        "        node.data = data\n",
        "        pre.link = node\n",
        "        node.link = head\n",
        "        memory.append(node)\n",
        "    printNodes(head)\n",
        "    insertNode('다현', '화사')\n",
        "    printNodes(head)\n",
        "    insertNode('사나', '솔라')\n",
        "    printNodes(head)\n",
        "    insertNode('재남', '문별')\n",
        "    printNodes(head)"
      ],
      "execution_count": 6,
      "outputs": [
        {
          "output_type": "stream",
          "text": [
            "다현 정연 쯔위 사나 지효 \n",
            "화사 다현 정연 쯔위 사나 지효 \n",
            "화사 다현 정연 쯔위 솔라 사나 지효 \n",
            "화사 다현 정연 쯔위 솔라 사나 지효 문별 \n"
          ],
          "name": "stdout"
        }
      ]
    },
    {
      "cell_type": "code",
      "metadata": {
        "id": "tWOj5dtf5AX8",
        "colab": {
          "base_uri": "https://localhost:8080/"
        },
        "outputId": "61778a2f-29d0-41da-96f5-c5c35d4bf0c0"
      },
      "source": [
        "class Node():\n",
        "    def __init__ (self):\n",
        "        self.data = None\n",
        "        self.link = None\n",
        "def printNodes(start):\n",
        "    current = start\n",
        "    if current.link == None:\n",
        "        return\n",
        "    print(current.data, end=' ')\n",
        "    while current.link != start:\n",
        "        current = current.link\n",
        "        print(current.data, end=' ')\n",
        "    print()\n",
        "def deleteNode(deleteData):\n",
        "    global memory, head, current, pre\n",
        "    if head.data == deleteData:\n",
        "        current = head\n",
        "        head = head.link\n",
        "        last = head\n",
        "        while last.link != current:\n",
        "            last = last.link\n",
        "        last.link = head\n",
        "        del(current)\n",
        "        return\n",
        "    current = head\n",
        "    while current.link != head:\n",
        "        pre = current\n",
        "        current = current.link\n",
        "        if current.data == deleteData:\n",
        "            pre.link = current.link\n",
        "            del(current)\n",
        "            return\n",
        "memory = []\n",
        "head, current, pre = None, None, None\n",
        "dataArray = ['다현', '정연', '쯔위', '사나', '지효']\n",
        "if __name__ == '__main__':\n",
        "    node = Node()\n",
        "    node.data = dataArray[0]\n",
        "    head = node\n",
        "    node.link = head\n",
        "    memory.append(node)\n",
        "    for data in dataArray[1:]:\n",
        "        pre = node\n",
        "        node = Node()\n",
        "        node.data = data\n",
        "        pre.link = node\n",
        "        node.link = head\n",
        "        memory.append(node)\n",
        "    printNodes(head)\n",
        "    deleteNode('다현')\n",
        "    printNodes(head)\n",
        "    deleteNode('쯔위')\n",
        "    printNodes(head)\n",
        "    deleteNode('지효')\n",
        "    printNodes(head)\n",
        "    deleteNode('재남')\n",
        "    printNodes(head)"
      ],
      "execution_count": 7,
      "outputs": [
        {
          "output_type": "stream",
          "text": [
            "다현 정연 쯔위 사나 지효 \n",
            "정연 쯔위 사나 지효 \n",
            "정연 사나 지효 \n",
            "정연 사나 \n",
            "정연 사나 \n"
          ],
          "name": "stdout"
        }
      ]
    },
    {
      "cell_type": "code",
      "metadata": {
        "id": "q9ejcfKh599u",
        "colab": {
          "base_uri": "https://localhost:8080/"
        },
        "outputId": "7ad224c1-ad81-4b2d-ff88-ca555894d35f"
      },
      "source": [
        "class Node():\n",
        "    def __init__ (self):\n",
        "        self.data = None\n",
        "        self.link = None\n",
        "def printNodes(start):\n",
        "    current = start\n",
        "    if current.link == None:\n",
        "        return\n",
        "    print(current.data, end=' ')\n",
        "    while current.link != start:\n",
        "        current = current.link\n",
        "        print(current.data, end=' ')\n",
        "    print()\n",
        "def findNode(findData):\n",
        "    global memory, head, current, pre\n",
        "    current = head\n",
        "    if current.data == findData:\n",
        "        return current\n",
        "    while current.link != head:\n",
        "        current = current.link\n",
        "        if current.data == findData:\n",
        "            return current\n",
        "    return Node()\n",
        "memory = []\n",
        "head, current, pre = None, None, None\n",
        "dataArray = ['다현', '정연', '쯔위', '사나', '지효']\n",
        "if __name__ == '__main__':\n",
        "    node = Node()\n",
        "    node.data = dataArray[0]\n",
        "    head = node\n",
        "    node.link = head\n",
        "    memory.append(node)\n",
        "    for data in dataArray[1:]:\n",
        "        pre = node\n",
        "        node = Node()\n",
        "        node.data = data\n",
        "        pre.link = node\n",
        "        node.link = head\n",
        "        memory.append(node)\n",
        "    printNodes(head)\n",
        "    fNode = findNode('다현')\n",
        "    print(fNode.data)\n",
        "    fNode = findNode('쯔위')\n",
        "    print(fNode.data)\n",
        "    fNode = findNode('재남')\n",
        "    print(fNode.data)"
      ],
      "execution_count": 8,
      "outputs": [
        {
          "output_type": "stream",
          "text": [
            "다현 정연 쯔위 사나 지효 \n",
            "다현\n",
            "쯔위\n",
            "None\n"
          ],
          "name": "stdout"
        }
      ]
    },
    {
      "cell_type": "code",
      "metadata": {
        "id": "IFZwDhG26wgK",
        "colab": {
          "base_uri": "https://localhost:8080/"
        },
        "outputId": "9943c587-b46c-4f04-9bb1-b2df3b458922"
      },
      "source": [
        "import random\n",
        "class Node():\n",
        "    def __init__ (self):\n",
        "        self.data = None\n",
        "        self.link = None\n",
        "def printNodes(start):\n",
        "    current = start\n",
        "    if current.link == None:\n",
        "        return\n",
        "    print(current.data, end=' ')\n",
        "    while current.link != start:\n",
        "        current = current.link\n",
        "        print(current.data, end=' ')\n",
        "    print()\n",
        "def countOddEven():\n",
        "    global memory, head, current, pre\n",
        "    odd, even = 0, 0\n",
        "    if head == None:\n",
        "        return False\n",
        "    current = head\n",
        "    while True:\n",
        "        if current.data % 2 == 0:\n",
        "            even += 1\n",
        "        else:\n",
        "            odd += 1\n",
        "        if current.link == head:\n",
        "            break\n",
        "        current = current.link\n",
        "    return odd, even\n",
        "def makeZeroNumber(odd, even):\n",
        "    if odd > even:\n",
        "        reminder = 1\n",
        "    else:\n",
        "        reminder = 0\n",
        "    current = head\n",
        "    while True:\n",
        "        if current.data % 2 == reminder:\n",
        "            current.data *= -1\n",
        "        if current.link == head:\n",
        "            break\n",
        "        current = current.link\n",
        "memory = []\n",
        "head, current, pre = None, None, None\n",
        "if __name__ == '__main__':\n",
        "    dataArray = []\n",
        "    for _ in range(7):\n",
        "        dataArray.append(random.randint(1, 100))\n",
        "    node = Node()\n",
        "    node.data = dataArray[0]\n",
        "    head = node\n",
        "    node.link = head\n",
        "    memory.append(node)\n",
        "    for data in dataArray[1:]:\n",
        "        pre = node\n",
        "        node = Node()\n",
        "        node.data = data\n",
        "        pre.link = node\n",
        "        node.link = head\n",
        "        memory.append(node)\n",
        "    printNodes(head)\n",
        "    oddCount, evenCount = countOddEven()\n",
        "    print('홀수 -->', oddCount, '\\t', '짝수 -->', evenCount)\n",
        "    makeZeroNumber(oddCount, evenCount)\n",
        "    printNodes(head)"
      ],
      "execution_count": 9,
      "outputs": [
        {
          "output_type": "stream",
          "text": [
            "60 28 10 88 27 99 11 \n",
            "홀수 --> 3 \t 짝수 --> 4\n",
            "-60 -28 -10 -88 27 99 11 \n"
          ],
          "name": "stdout"
        }
      ]
    }
  ]
}